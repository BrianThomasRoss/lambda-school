{
  "nbformat": 4,
  "nbformat_minor": 0,
  "metadata": {
    "colab": {
      "name": "LS_DS_423_Keras_Assignment.ipynb",
      "provenance": []
    },
    "kernelspec": {
      "display_name": "Python 3",
      "language": "python",
      "name": "python3"
    },
    "language_info": {
      "codemirror_mode": {
        "name": "ipython",
        "version": 3
      },
      "file_extension": ".py",
      "mimetype": "text/x-python",
      "name": "python",
      "nbconvert_exporter": "python",
      "pygments_lexer": "ipython3",
      "version": "3.7.3"
    }
  },
  "cells": [
    {
      "cell_type": "markdown",
      "metadata": {
        "colab_type": "text",
        "id": "pBQsZEJmubLs"
      },
      "source": [
        "<img align=\"left\" src=\"https://lever-client-logos.s3.amazonaws.com/864372b1-534c-480e-acd5-9711f850815c-1524247202159.png\" width=200>\n",
        "<br></br>\n",
        "\n",
        "# Neural Network Framework (Keras)\n",
        "\n",
        "## *Data Science Unit 4 Sprint 2 Assignmnet 3*\n",
        "\n",
        "## Use the Keras Library to build a Multi-Layer Perceptron Model on the Boston Housing dataset\n",
        "\n",
        "- The Boston Housing dataset comes with the Keras library so use Keras to import it into your notebook. \n",
        "- Normalize the data (all features should have roughly the same scale)\n",
        "- Import the type of model and layers that you will need from Keras.\n",
        "- Instantiate a model object and use `model.add()` to add layers to your model\n",
        "- Since this is a regression model you will have a single output node in the final layer.\n",
        "- Use activation functions that are appropriate for this task\n",
        "- Compile your model\n",
        "- Fit your model and report its accuracy in terms of Mean Squared Error\n",
        "- Use the history object that is returned from model.fit to make graphs of the model's loss or train/validation accuracies by epoch. \n",
        "- Run this same data through a linear regression model. Which achieves higher accuracy?\n",
        "- Do a little bit of feature engineering and see how that affects your neural network model. (you will need to change your model to accept more inputs)\n",
        "- After feature engineering, which model sees a greater accuracy boost due to the new features?"
      ]
    },
    {
      "cell_type": "code",
      "metadata": {
        "colab_type": "code",
        "id": "8NLTAR87uYJ-",
        "colab": {}
      },
      "source": [
        "import tensorflow as tf\n",
        "import tensorflow.keras as k\n",
        "from keras.datasets import boston_housing\n",
        "import numpy as np\n",
        "import pandas as pd"
      ],
      "execution_count": 0,
      "outputs": []
    },
    {
      "cell_type": "code",
      "metadata": {
        "id": "WYw1p_YJaOxx",
        "colab_type": "code",
        "colab": {}
      },
      "source": [
        "SEED = np.random.seed(42)"
      ],
      "execution_count": 0,
      "outputs": []
    },
    {
      "cell_type": "code",
      "metadata": {
        "id": "yBpK0c5YaWTu",
        "colab_type": "code",
        "colab": {}
      },
      "source": [
        "(X_train, y_train), (X_test, y_test) = boston_housing.load_data()\n",
        "\n",
        "X_train = k.utils.normalize(X_train)\n",
        "X_test = k.utils.normalize(X_test)"
      ],
      "execution_count": 0,
      "outputs": []
    },
    {
      "cell_type": "code",
      "metadata": {
        "id": "1lOrewRNcLmj",
        "colab_type": "code",
        "outputId": "7b36a183-9b5a-4d89-d11d-fd4864e21dd6",
        "colab": {
          "base_uri": "https://localhost:8080/",
          "height": 34
        }
      },
      "source": [
        "y_train[:10]"
      ],
      "execution_count": 217,
      "outputs": [
        {
          "output_type": "execute_result",
          "data": {
            "text/plain": [
              "array([15.2, 42.3, 50. , 21.1, 17.7, 18.5, 11.3, 15.6, 15.6, 14.4])"
            ]
          },
          "metadata": {
            "tags": []
          },
          "execution_count": 217
        }
      ]
    },
    {
      "cell_type": "code",
      "metadata": {
        "id": "-NjM_7_Gb9Kd",
        "colab_type": "code",
        "outputId": "66690666-108d-4019-aeb7-6afaec7e6c57",
        "colab": {
          "base_uri": "https://localhost:8080/",
          "height": 419
        }
      },
      "source": [
        "pd.DataFrame(X_train)"
      ],
      "execution_count": 218,
      "outputs": [
        {
          "output_type": "execute_result",
          "data": {
            "text/html": [
              "<div>\n",
              "<style scoped>\n",
              "    .dataframe tbody tr th:only-of-type {\n",
              "        vertical-align: middle;\n",
              "    }\n",
              "\n",
              "    .dataframe tbody tr th {\n",
              "        vertical-align: top;\n",
              "    }\n",
              "\n",
              "    .dataframe thead th {\n",
              "        text-align: right;\n",
              "    }\n",
              "</style>\n",
              "<table border=\"1\" class=\"dataframe\">\n",
              "  <thead>\n",
              "    <tr style=\"text-align: right;\">\n",
              "      <th></th>\n",
              "      <th>0</th>\n",
              "      <th>1</th>\n",
              "      <th>2</th>\n",
              "      <th>3</th>\n",
              "      <th>4</th>\n",
              "      <th>5</th>\n",
              "      <th>6</th>\n",
              "      <th>7</th>\n",
              "      <th>8</th>\n",
              "      <th>9</th>\n",
              "      <th>10</th>\n",
              "      <th>11</th>\n",
              "      <th>12</th>\n",
              "    </tr>\n",
              "  </thead>\n",
              "  <tbody>\n",
              "    <tr>\n",
              "      <th>0</th>\n",
              "      <td>0.002412</td>\n",
              "      <td>0.000000</td>\n",
              "      <td>0.015930</td>\n",
              "      <td>0.0</td>\n",
              "      <td>0.001053</td>\n",
              "      <td>0.012020</td>\n",
              "      <td>0.179454</td>\n",
              "      <td>0.007783</td>\n",
              "      <td>0.007828</td>\n",
              "      <td>0.600788</td>\n",
              "      <td>0.041096</td>\n",
              "      <td>0.776719</td>\n",
              "      <td>0.036634</td>\n",
              "    </tr>\n",
              "    <tr>\n",
              "      <th>1</th>\n",
              "      <td>0.000041</td>\n",
              "      <td>0.154587</td>\n",
              "      <td>0.003804</td>\n",
              "      <td>0.0</td>\n",
              "      <td>0.000778</td>\n",
              "      <td>0.014260</td>\n",
              "      <td>0.029418</td>\n",
              "      <td>0.011749</td>\n",
              "      <td>0.003748</td>\n",
              "      <td>0.652077</td>\n",
              "      <td>0.027545</td>\n",
              "      <td>0.740857</td>\n",
              "      <td>0.005827</td>\n",
              "    </tr>\n",
              "    <tr>\n",
              "      <th>2</th>\n",
              "      <td>0.006345</td>\n",
              "      <td>0.000000</td>\n",
              "      <td>0.023446</td>\n",
              "      <td>0.0</td>\n",
              "      <td>0.000817</td>\n",
              "      <td>0.006438</td>\n",
              "      <td>0.129538</td>\n",
              "      <td>0.001726</td>\n",
              "      <td>0.031089</td>\n",
              "      <td>0.862723</td>\n",
              "      <td>0.026167</td>\n",
              "      <td>0.486441</td>\n",
              "      <td>0.004223</td>\n",
              "    </tr>\n",
              "    <tr>\n",
              "      <th>3</th>\n",
              "      <td>0.000087</td>\n",
              "      <td>0.000000</td>\n",
              "      <td>0.011339</td>\n",
              "      <td>0.0</td>\n",
              "      <td>0.001125</td>\n",
              "      <td>0.013190</td>\n",
              "      <td>0.075376</td>\n",
              "      <td>0.013077</td>\n",
              "      <td>0.010924</td>\n",
              "      <td>0.489400</td>\n",
              "      <td>0.044133</td>\n",
              "      <td>0.867155</td>\n",
              "      <td>0.017500</td>\n",
              "    </tr>\n",
              "    <tr>\n",
              "      <th>4</th>\n",
              "      <td>0.004743</td>\n",
              "      <td>0.000000</td>\n",
              "      <td>0.023248</td>\n",
              "      <td>0.0</td>\n",
              "      <td>0.000916</td>\n",
              "      <td>0.008189</td>\n",
              "      <td>0.113541</td>\n",
              "      <td>0.003297</td>\n",
              "      <td>0.030826</td>\n",
              "      <td>0.855411</td>\n",
              "      <td>0.025945</td>\n",
              "      <td>0.502753</td>\n",
              "      <td>0.018816</td>\n",
              "    </tr>\n",
              "    <tr>\n",
              "      <th>...</th>\n",
              "      <td>...</td>\n",
              "      <td>...</td>\n",
              "      <td>...</td>\n",
              "      <td>...</td>\n",
              "      <td>...</td>\n",
              "      <td>...</td>\n",
              "      <td>...</td>\n",
              "      <td>...</td>\n",
              "      <td>...</td>\n",
              "      <td>...</td>\n",
              "      <td>...</td>\n",
              "      <td>...</td>\n",
              "      <td>...</td>\n",
              "    </tr>\n",
              "    <tr>\n",
              "      <th>399</th>\n",
              "      <td>0.000472</td>\n",
              "      <td>0.000000</td>\n",
              "      <td>0.014855</td>\n",
              "      <td>0.0</td>\n",
              "      <td>0.000963</td>\n",
              "      <td>0.012043</td>\n",
              "      <td>0.133288</td>\n",
              "      <td>0.013087</td>\n",
              "      <td>0.006449</td>\n",
              "      <td>0.500906</td>\n",
              "      <td>0.038482</td>\n",
              "      <td>0.853261</td>\n",
              "      <td>0.034827</td>\n",
              "    </tr>\n",
              "    <tr>\n",
              "      <th>400</th>\n",
              "      <td>0.000355</td>\n",
              "      <td>0.043808</td>\n",
              "      <td>0.015245</td>\n",
              "      <td>0.0</td>\n",
              "      <td>0.001016</td>\n",
              "      <td>0.013668</td>\n",
              "      <td>0.035703</td>\n",
              "      <td>0.009701</td>\n",
              "      <td>0.006571</td>\n",
              "      <td>0.488455</td>\n",
              "      <td>0.040741</td>\n",
              "      <td>0.869363</td>\n",
              "      <td>0.014435</td>\n",
              "    </tr>\n",
              "    <tr>\n",
              "      <th>401</th>\n",
              "      <td>0.000073</td>\n",
              "      <td>0.073644</td>\n",
              "      <td>0.012751</td>\n",
              "      <td>0.0</td>\n",
              "      <td>0.000921</td>\n",
              "      <td>0.012690</td>\n",
              "      <td>0.049026</td>\n",
              "      <td>0.013973</td>\n",
              "      <td>0.002104</td>\n",
              "      <td>0.639647</td>\n",
              "      <td>0.035559</td>\n",
              "      <td>0.762211</td>\n",
              "      <td>0.016475</td>\n",
              "    </tr>\n",
              "    <tr>\n",
              "      <th>402</th>\n",
              "      <td>0.004372</td>\n",
              "      <td>0.000000</td>\n",
              "      <td>0.039831</td>\n",
              "      <td>0.0</td>\n",
              "      <td>0.001772</td>\n",
              "      <td>0.011614</td>\n",
              "      <td>0.200377</td>\n",
              "      <td>0.003302</td>\n",
              "      <td>0.010171</td>\n",
              "      <td>0.819818</td>\n",
              "      <td>0.029904</td>\n",
              "      <td>0.532882</td>\n",
              "      <td>0.032121</td>\n",
              "    </tr>\n",
              "    <tr>\n",
              "      <th>403</th>\n",
              "      <td>0.000031</td>\n",
              "      <td>0.128969</td>\n",
              "      <td>0.006298</td>\n",
              "      <td>0.0</td>\n",
              "      <td>0.000862</td>\n",
              "      <td>0.014195</td>\n",
              "      <td>0.040410</td>\n",
              "      <td>0.013369</td>\n",
              "      <td>0.002149</td>\n",
              "      <td>0.569615</td>\n",
              "      <td>0.033532</td>\n",
              "      <td>0.809713</td>\n",
              "      <td>0.009415</td>\n",
              "    </tr>\n",
              "  </tbody>\n",
              "</table>\n",
              "<p>404 rows × 13 columns</p>\n",
              "</div>"
            ],
            "text/plain": [
              "           0         1         2    3   ...        9         10        11        12\n",
              "0    0.002412  0.000000  0.015930  0.0  ...  0.600788  0.041096  0.776719  0.036634\n",
              "1    0.000041  0.154587  0.003804  0.0  ...  0.652077  0.027545  0.740857  0.005827\n",
              "2    0.006345  0.000000  0.023446  0.0  ...  0.862723  0.026167  0.486441  0.004223\n",
              "3    0.000087  0.000000  0.011339  0.0  ...  0.489400  0.044133  0.867155  0.017500\n",
              "4    0.004743  0.000000  0.023248  0.0  ...  0.855411  0.025945  0.502753  0.018816\n",
              "..        ...       ...       ...  ...  ...       ...       ...       ...       ...\n",
              "399  0.000472  0.000000  0.014855  0.0  ...  0.500906  0.038482  0.853261  0.034827\n",
              "400  0.000355  0.043808  0.015245  0.0  ...  0.488455  0.040741  0.869363  0.014435\n",
              "401  0.000073  0.073644  0.012751  0.0  ...  0.639647  0.035559  0.762211  0.016475\n",
              "402  0.004372  0.000000  0.039831  0.0  ...  0.819818  0.029904  0.532882  0.032121\n",
              "403  0.000031  0.128969  0.006298  0.0  ...  0.569615  0.033532  0.809713  0.009415\n",
              "\n",
              "[404 rows x 13 columns]"
            ]
          },
          "metadata": {
            "tags": []
          },
          "execution_count": 218
        }
      ]
    },
    {
      "cell_type": "markdown",
      "metadata": {
        "id": "LXhTHW7F65dn",
        "colab_type": "text"
      },
      "source": [
        "### Baseline"
      ]
    },
    {
      "cell_type": "code",
      "metadata": {
        "id": "Vipj0Awv0YiQ",
        "colab_type": "code",
        "colab": {}
      },
      "source": [
        "housing_model = k.Sequential()"
      ],
      "execution_count": 0,
      "outputs": []
    },
    {
      "cell_type": "code",
      "metadata": {
        "id": "bCzGLmAJ0dNe",
        "colab_type": "code",
        "outputId": "a25aa5d9-bdc2-47da-9e87-37810956a8e7",
        "colab": {
          "base_uri": "https://localhost:8080/",
          "height": 221
        }
      },
      "source": [
        "# Input => Hidden\n",
        "housing_model.add(k.layers.Dense(12, input_dim=13, activation='relu'))\n",
        "# Output\n",
        "housing_model.add(k.layers.Dense(1))\n",
        "\n",
        "#Compile\n",
        "housing_model.compile(loss='mean_squared_error',\n",
        "                    optimizer='adam',\n",
        "                    metrics=['mse'])\n",
        "\n",
        "housing_model.summary()"
      ],
      "execution_count": 220,
      "outputs": [
        {
          "output_type": "stream",
          "text": [
            "Model: \"sequential_9\"\n",
            "_________________________________________________________________\n",
            "Layer (type)                 Output Shape              Param #   \n",
            "=================================================================\n",
            "dense_169 (Dense)            (None, 12)                168       \n",
            "_________________________________________________________________\n",
            "dense_170 (Dense)            (None, 1)                 13        \n",
            "=================================================================\n",
            "Total params: 181\n",
            "Trainable params: 181\n",
            "Non-trainable params: 0\n",
            "_________________________________________________________________\n"
          ],
          "name": "stdout"
        }
      ]
    },
    {
      "cell_type": "code",
      "metadata": {
        "id": "uM5BPYlA1cWq",
        "colab_type": "code",
        "colab": {}
      },
      "source": [
        "\n",
        "history = housing_model.fit(X_train,y_train, epochs=100, verbose=False)"
      ],
      "execution_count": 0,
      "outputs": []
    },
    {
      "cell_type": "code",
      "metadata": {
        "id": "hZ4kfuF63cYQ",
        "colab_type": "code",
        "outputId": "3851a46f-ae12-4b0a-d387-a4c068dad096",
        "colab": {
          "base_uri": "https://localhost:8080/",
          "height": 51
        }
      },
      "source": [
        "scores = housing_model.evaluate(X_test, y_test)\n",
        "print(f'{housing_model.metrics_names[1]}: {scores[1]}')"
      ],
      "execution_count": 222,
      "outputs": [
        {
          "output_type": "stream",
          "text": [
            "102/102 [==============================] - 0s 3ms/sample - loss: 79.8264 - mean_squared_error: 79.8264\n",
            "mean_squared_error: 79.82642364501953\n"
          ],
          "name": "stdout"
        }
      ]
    },
    {
      "cell_type": "code",
      "metadata": {
        "id": "T3G9eDqx3vMf",
        "colab_type": "code",
        "outputId": "ff926992-061b-4dd6-c84d-610a8a587316",
        "colab": {
          "base_uri": "https://localhost:8080/",
          "height": 281
        }
      },
      "source": [
        "import matplotlib.pyplot as plt\n",
        "\n",
        "fig, ((ax1,ax2)) = plt.subplots(1,2)\n",
        "ax1.plot(history.history['loss'], color = 'r')\n",
        "ax1.set_title(\"Loss\")\n",
        "ax2.plot(history.history['mean_squared_error'], color = 'b')\n",
        "ax2.set_title(\"MSE\");"
      ],
      "execution_count": 223,
      "outputs": [
        {
          "output_type": "display_data",
          "data": {
            "image/png": "[encoded data removed]",
            "text/plain": [
              "<Figure size 432x288 with 2 Axes>"
            ]
          },
          "metadata": {
            "tags": []
          }
        }
      ]
    },
    {
      "cell_type": "markdown",
      "metadata": {
        "id": "Dzp_74qh4F3o",
        "colab_type": "text"
      },
      "source": [
        "## 2nd iter"
      ]
    },
    {
      "cell_type": "code",
      "metadata": {
        "id": "iKAlGEix3_0n",
        "colab_type": "code",
        "colab": {}
      },
      "source": [
        "housing_model = k.Sequential(name='round2...fight')"
      ],
      "execution_count": 0,
      "outputs": []
    },
    {
      "cell_type": "code",
      "metadata": {
        "id": "I-4Awth64S23",
        "colab_type": "code",
        "outputId": "cbca3bf7-7c28-4d5a-9936-5003226562f7",
        "colab": {
          "base_uri": "https://localhost:8080/",
          "height": 289
        }
      },
      "source": [
        "# Input => Hidden\n",
        "housing_model.add(k.layers.Dense(12, input_dim=13, activation='linear'))\n",
        "# Hidden\n",
        "housing_model.add(k.layers.Dense(2000, activation='relu'))\n",
        "housing_model.add(k.layers.Dense(2000, activation='linear'))\n",
        "\n",
        "# Output\n",
        "housing_model.add(k.layers.Dense(1,activation='linear'))\n",
        "\n",
        "#Compile\n",
        "housing_model.compile(loss='mean_squared_error',\n",
        "                    optimizer='adam',\n",
        "                    metrics=['mse', 'mae'])\n",
        "\n",
        "housing_model.summary()"
      ],
      "execution_count": 225,
      "outputs": [
        {
          "output_type": "stream",
          "text": [
            "Model: \"round2...fight\"\n",
            "_________________________________________________________________\n",
            "Layer (type)                 Output Shape              Param #   \n",
            "=================================================================\n",
            "dense_171 (Dense)            (None, 12)                168       \n",
            "_________________________________________________________________\n",
            "dense_172 (Dense)            (None, 2000)              26000     \n",
            "_________________________________________________________________\n",
            "dense_173 (Dense)            (None, 2000)              4002000   \n",
            "_________________________________________________________________\n",
            "dense_174 (Dense)            (None, 1)                 2001      \n",
            "=================================================================\n",
            "Total params: 4,030,169\n",
            "Trainable params: 4,030,169\n",
            "Non-trainable params: 0\n",
            "_________________________________________________________________\n"
          ],
          "name": "stdout"
        }
      ]
    },
    {
      "cell_type": "code",
      "metadata": {
        "id": "wBBWRIe640Jz",
        "colab_type": "code",
        "outputId": "1185c8a6-11d5-41a3-fbc5-6d82012482fe",
        "colab": {
          "base_uri": "https://localhost:8080/",
          "height": 1000
        }
      },
      "source": [
        "history = housing_model.fit(X_train,y_train, epochs=100, verbose=5)"
      ],
      "execution_count": 226,
      "outputs": [
        {
          "output_type": "stream",
          "text": [
            "Train on 404 samples\n",
            "Epoch 1/100\n",
            "Epoch 2/100\n",
            "Epoch 3/100\n",
            "Epoch 4/100\n",
            "Epoch 5/100\n",
            "Epoch 6/100\n",
            "Epoch 7/100\n",
            "Epoch 8/100\n",
            "Epoch 9/100\n",
            "Epoch 10/100\n",
            "Epoch 11/100\n",
            "Epoch 12/100\n",
            "Epoch 13/100\n",
            "Epoch 14/100\n",
            "Epoch 15/100\n",
            "Epoch 16/100\n",
            "Epoch 17/100\n",
            "Epoch 18/100\n",
            "Epoch 19/100\n",
            "Epoch 20/100\n",
            "Epoch 21/100\n",
            "Epoch 22/100\n",
            "Epoch 23/100\n",
            "Epoch 24/100\n",
            "Epoch 25/100\n",
            "Epoch 26/100\n",
            "Epoch 27/100\n",
            "Epoch 28/100\n",
            "Epoch 29/100\n",
            "Epoch 30/100\n",
            "Epoch 31/100\n",
            "Epoch 32/100\n",
            "Epoch 33/100\n",
            "Epoch 34/100\n",
            "Epoch 35/100\n",
            "Epoch 36/100\n",
            "Epoch 37/100\n",
            "Epoch 38/100\n",
            "Epoch 39/100\n",
            "Epoch 40/100\n",
            "Epoch 41/100\n",
            "Epoch 42/100\n",
            "Epoch 43/100\n",
            "Epoch 44/100\n",
            "Epoch 45/100\n",
            "Epoch 46/100\n",
            "Epoch 47/100\n",
            "Epoch 48/100\n",
            "Epoch 49/100\n",
            "Epoch 50/100\n",
            "Epoch 51/100\n",
            "Epoch 52/100\n",
            "Epoch 53/100\n",
            "Epoch 54/100\n",
            "Epoch 55/100\n",
            "Epoch 56/100\n",
            "Epoch 57/100\n",
            "Epoch 58/100\n",
            "Epoch 59/100\n",
            "Epoch 60/100\n",
            "Epoch 61/100\n",
            "Epoch 62/100\n",
            "Epoch 63/100\n",
            "Epoch 64/100\n",
            "Epoch 65/100\n",
            "Epoch 66/100\n",
            "Epoch 67/100\n",
            "Epoch 68/100\n",
            "Epoch 69/100\n",
            "Epoch 70/100\n",
            "Epoch 71/100\n",
            "Epoch 72/100\n",
            "Epoch 73/100\n",
            "Epoch 74/100\n",
            "Epoch 75/100\n",
            "Epoch 76/100\n",
            "Epoch 77/100\n",
            "Epoch 78/100\n",
            "Epoch 79/100\n",
            "Epoch 80/100\n",
            "Epoch 81/100\n",
            "Epoch 82/100\n",
            "Epoch 83/100\n",
            "Epoch 84/100\n",
            "Epoch 85/100\n",
            "Epoch 86/100\n",
            "Epoch 87/100\n",
            "Epoch 88/100\n",
            "Epoch 89/100\n",
            "Epoch 90/100\n",
            "Epoch 91/100\n",
            "Epoch 92/100\n",
            "Epoch 93/100\n",
            "Epoch 94/100\n",
            "Epoch 95/100\n",
            "Epoch 96/100\n",
            "Epoch 97/100\n",
            "Epoch 98/100\n",
            "Epoch 99/100\n",
            "Epoch 100/100\n"
          ],
          "name": "stdout"
        }
      ]
    },
    {
      "cell_type": "code",
      "metadata": {
        "id": "Padvvek045eS",
        "colab_type": "code",
        "outputId": "7851641c-e4ab-4048-c597-45929b66eb7c",
        "colab": {
          "base_uri": "https://localhost:8080/",
          "height": 51
        }
      },
      "source": [
        "scores = housing_model.evaluate(X_test, y_test)\n",
        "print(f'{housing_model.metrics_names[1]}: {scores[1]}')"
      ],
      "execution_count": 227,
      "outputs": [
        {
          "output_type": "stream",
          "text": [
            "102/102 [==============================] - 0s 3ms/sample - loss: 33.2181 - mean_squared_error: 33.2181 - mean_absolute_error: 4.1344\n",
            "mean_squared_error: 33.218082427978516\n"
          ],
          "name": "stdout"
        }
      ]
    },
    {
      "cell_type": "code",
      "metadata": {
        "id": "UZ193hTZ74ll",
        "colab_type": "code",
        "outputId": "ee5bcf30-d69b-44f1-f621-591c01c57518",
        "colab": {
          "base_uri": "https://localhost:8080/",
          "height": 281
        }
      },
      "source": [
        "fig, ((ax1,ax2)) = plt.subplots(1,2)\n",
        "ax1.plot(history.history['mean_absolute_error'], color = 'r')\n",
        "ax1.set_title(\"MAE\")\n",
        "ax2.plot(history.history['mean_squared_error'], color = 'b')\n",
        "ax2.set_title(\"MSE\");"
      ],
      "execution_count": 232,
      "outputs": [
        {
          "output_type": "display_data",
          "data": {
            "image/png": "[encoded data removed]",
            "text/plain": [
              "<Figure size 432x288 with 2 Axes>"
            ]
          },
          "metadata": {
            "tags": []
          }
        }
      ]
    },
    {
      "cell_type": "markdown",
      "metadata": {
        "id": "94yu40kdWQ3-",
        "colab_type": "text"
      },
      "source": [
        "### Linear Model\n"
      ]
    },
    {
      "cell_type": "code",
      "metadata": {
        "id": "dpSU5oSxWQDI",
        "colab_type": "code",
        "colab": {
          "base_uri": "https://localhost:8080/",
          "height": 34
        },
        "outputId": "1e16e643-f77a-4ff9-9259-85c4124b70be"
      },
      "source": [
        "from sklearn.linear_model import LinearRegression\n",
        "from sklearn.metrics import mean_squared_error\n",
        "\n",
        "lr = LinearRegression()\n",
        "\n",
        "lr.fit(X_train, y_train)\n",
        "\n",
        "preds = lr.predict(X_test)\n",
        "\n",
        "MSE = mean_squared_error(y_test, preds)\n",
        "print(f'{MSE:.05f}')"
      ],
      "execution_count": 233,
      "outputs": [
        {
          "output_type": "stream",
          "text": [
            "18.16551\n"
          ],
          "name": "stdout"
        }
      ]
    },
    {
      "cell_type": "markdown",
      "metadata": {
        "id": "FFzOpUqYYbT2",
        "colab_type": "text"
      },
      "source": [
        "## Feature Engineering\n",
        "\n",
        "\n",
        "0. - CRIM - per capita crime rate by town\n",
        "1. - ZN - proportion of residential land zoned for lots over 25,000 sq.ft.\n",
        "2. - INDUS - proportion of non-retail business acres per town.\n",
        "3. - CHAS - Charles River dummy variable (1 if tract bounds river; 0 otherwise)\n",
        "4. - NOX - nitric oxides concentration (parts per 10 million)\n",
        "5. - RM - average number of rooms per dwelling\n",
        "6. - AGE - proportion of owner-occupied units built prior to 1940\n",
        "7. - DIS - weighted distances to five Boston employment centres\n",
        "8. - RAD - index of accessibility to radial highways\n",
        "9. - TAX - full-value property-tax rate per $10,000\n",
        "\n",
        "9. - PTRATIO - pupil-teacher ratio by town\n",
        "10. - B - 1000(Bk - 0.63)^2 where Bk is the proportion of blacks by town\n",
        "11. - LSTAT - % lower status of the population\n",
        "12. - MEDV - Median value of owner-occupied homes in $1000's"
      ]
    },
    {
      "cell_type": "code",
      "metadata": {
        "id": "q4O4wlJVYeWL",
        "colab_type": "code",
        "colab": {}
      },
      "source": [
        "(X_train, y_train), (X_test, y_test) = boston_housing.load_data()\n",
        "\n",
        "df = pd.DataFrame(X_train)\n",
        "df[13] = pd.Series(y_train)\n",
        "df1 = pd.DataFrame(X_test)\n",
        "df1[13] = pd.Series(y_test)\n",
        "df = pd.concat([df, df1])"
      ],
      "execution_count": 0,
      "outputs": []
    },
    {
      "cell_type": "code",
      "metadata": {
        "id": "4dyNZ9h8ZfTd",
        "colab_type": "code",
        "colab": {
          "base_uri": "https://localhost:8080/",
          "height": 221
        },
        "outputId": "31dbc67c-dfae-43d1-b63d-baa720b9b83c"
      },
      "source": [
        "print(df.shape)\n",
        "df.head()"
      ],
      "execution_count": 235,
      "outputs": [
        {
          "output_type": "stream",
          "text": [
            "(506, 14)\n"
          ],
          "name": "stdout"
        },
        {
          "output_type": "execute_result",
          "data": {
            "text/html": [
              "<div>\n",
              "<style scoped>\n",
              "    .dataframe tbody tr th:only-of-type {\n",
              "        vertical-align: middle;\n",
              "    }\n",
              "\n",
              "    .dataframe tbody tr th {\n",
              "        vertical-align: top;\n",
              "    }\n",
              "\n",
              "    .dataframe thead th {\n",
              "        text-align: right;\n",
              "    }\n",
              "</style>\n",
              "<table border=\"1\" class=\"dataframe\">\n",
              "  <thead>\n",
              "    <tr style=\"text-align: right;\">\n",
              "      <th></th>\n",
              "      <th>0</th>\n",
              "      <th>1</th>\n",
              "      <th>2</th>\n",
              "      <th>3</th>\n",
              "      <th>4</th>\n",
              "      <th>5</th>\n",
              "      <th>6</th>\n",
              "      <th>7</th>\n",
              "      <th>8</th>\n",
              "      <th>9</th>\n",
              "      <th>10</th>\n",
              "      <th>11</th>\n",
              "      <th>12</th>\n",
              "      <th>13</th>\n",
              "    </tr>\n",
              "  </thead>\n",
              "  <tbody>\n",
              "    <tr>\n",
              "      <th>0</th>\n",
              "      <td>1.23247</td>\n",
              "      <td>0.0</td>\n",
              "      <td>8.14</td>\n",
              "      <td>0.0</td>\n",
              "      <td>0.538</td>\n",
              "      <td>6.142</td>\n",
              "      <td>91.7</td>\n",
              "      <td>3.9769</td>\n",
              "      <td>4.0</td>\n",
              "      <td>307.0</td>\n",
              "      <td>21.0</td>\n",
              "      <td>396.90</td>\n",
              "      <td>18.72</td>\n",
              "      <td>15.2</td>\n",
              "    </tr>\n",
              "    <tr>\n",
              "      <th>1</th>\n",
              "      <td>0.02177</td>\n",
              "      <td>82.5</td>\n",
              "      <td>2.03</td>\n",
              "      <td>0.0</td>\n",
              "      <td>0.415</td>\n",
              "      <td>7.610</td>\n",
              "      <td>15.7</td>\n",
              "      <td>6.2700</td>\n",
              "      <td>2.0</td>\n",
              "      <td>348.0</td>\n",
              "      <td>14.7</td>\n",
              "      <td>395.38</td>\n",
              "      <td>3.11</td>\n",
              "      <td>42.3</td>\n",
              "    </tr>\n",
              "    <tr>\n",
              "      <th>2</th>\n",
              "      <td>4.89822</td>\n",
              "      <td>0.0</td>\n",
              "      <td>18.10</td>\n",
              "      <td>0.0</td>\n",
              "      <td>0.631</td>\n",
              "      <td>4.970</td>\n",
              "      <td>100.0</td>\n",
              "      <td>1.3325</td>\n",
              "      <td>24.0</td>\n",
              "      <td>666.0</td>\n",
              "      <td>20.2</td>\n",
              "      <td>375.52</td>\n",
              "      <td>3.26</td>\n",
              "      <td>50.0</td>\n",
              "    </tr>\n",
              "    <tr>\n",
              "      <th>3</th>\n",
              "      <td>0.03961</td>\n",
              "      <td>0.0</td>\n",
              "      <td>5.19</td>\n",
              "      <td>0.0</td>\n",
              "      <td>0.515</td>\n",
              "      <td>6.037</td>\n",
              "      <td>34.5</td>\n",
              "      <td>5.9853</td>\n",
              "      <td>5.0</td>\n",
              "      <td>224.0</td>\n",
              "      <td>20.2</td>\n",
              "      <td>396.90</td>\n",
              "      <td>8.01</td>\n",
              "      <td>21.1</td>\n",
              "    </tr>\n",
              "    <tr>\n",
              "      <th>4</th>\n",
              "      <td>3.69311</td>\n",
              "      <td>0.0</td>\n",
              "      <td>18.10</td>\n",
              "      <td>0.0</td>\n",
              "      <td>0.713</td>\n",
              "      <td>6.376</td>\n",
              "      <td>88.4</td>\n",
              "      <td>2.5671</td>\n",
              "      <td>24.0</td>\n",
              "      <td>666.0</td>\n",
              "      <td>20.2</td>\n",
              "      <td>391.43</td>\n",
              "      <td>14.65</td>\n",
              "      <td>17.7</td>\n",
              "    </tr>\n",
              "  </tbody>\n",
              "</table>\n",
              "</div>"
            ],
            "text/plain": [
              "        0     1      2    3      4   ...     9     10      11     12    13\n",
              "0  1.23247   0.0   8.14  0.0  0.538  ...  307.0  21.0  396.90  18.72  15.2\n",
              "1  0.02177  82.5   2.03  0.0  0.415  ...  348.0  14.7  395.38   3.11  42.3\n",
              "2  4.89822   0.0  18.10  0.0  0.631  ...  666.0  20.2  375.52   3.26  50.0\n",
              "3  0.03961   0.0   5.19  0.0  0.515  ...  224.0  20.2  396.90   8.01  21.1\n",
              "4  3.69311   0.0  18.10  0.0  0.713  ...  666.0  20.2  391.43  14.65  17.7\n",
              "\n",
              "[5 rows x 14 columns]"
            ]
          },
          "metadata": {
            "tags": []
          },
          "execution_count": 235
        }
      ]
    },
    {
      "cell_type": "code",
      "metadata": {
        "id": "97qWz-V7e7uA",
        "colab_type": "code",
        "colab": {
          "base_uri": "https://localhost:8080/",
          "height": 317
        },
        "outputId": "600715ab-02af-41ed-d24b-bde377870b62"
      },
      "source": [
        "df.describe()"
      ],
      "execution_count": 236,
      "outputs": [
        {
          "output_type": "execute_result",
          "data": {
            "text/html": [
              "<div>\n",
              "<style scoped>\n",
              "    .dataframe tbody tr th:only-of-type {\n",
              "        vertical-align: middle;\n",
              "    }\n",
              "\n",
              "    .dataframe tbody tr th {\n",
              "        vertical-align: top;\n",
              "    }\n",
              "\n",
              "    .dataframe thead th {\n",
              "        text-align: right;\n",
              "    }\n",
              "</style>\n",
              "<table border=\"1\" class=\"dataframe\">\n",
              "  <thead>\n",
              "    <tr style=\"text-align: right;\">\n",
              "      <th></th>\n",
              "      <th>0</th>\n",
              "      <th>1</th>\n",
              "      <th>2</th>\n",
              "      <th>3</th>\n",
              "      <th>4</th>\n",
              "      <th>5</th>\n",
              "      <th>6</th>\n",
              "      <th>7</th>\n",
              "      <th>8</th>\n",
              "      <th>9</th>\n",
              "      <th>10</th>\n",
              "      <th>11</th>\n",
              "      <th>12</th>\n",
              "      <th>13</th>\n",
              "    </tr>\n",
              "  </thead>\n",
              "  <tbody>\n",
              "    <tr>\n",
              "      <th>count</th>\n",
              "      <td>506.000000</td>\n",
              "      <td>506.000000</td>\n",
              "      <td>506.000000</td>\n",
              "      <td>506.000000</td>\n",
              "      <td>506.000000</td>\n",
              "      <td>506.000000</td>\n",
              "      <td>506.000000</td>\n",
              "      <td>506.000000</td>\n",
              "      <td>506.000000</td>\n",
              "      <td>506.000000</td>\n",
              "      <td>506.000000</td>\n",
              "      <td>506.000000</td>\n",
              "      <td>506.000000</td>\n",
              "      <td>506.000000</td>\n",
              "    </tr>\n",
              "    <tr>\n",
              "      <th>mean</th>\n",
              "      <td>3.613524</td>\n",
              "      <td>11.363636</td>\n",
              "      <td>11.136779</td>\n",
              "      <td>0.069170</td>\n",
              "      <td>0.554695</td>\n",
              "      <td>6.284634</td>\n",
              "      <td>68.574901</td>\n",
              "      <td>3.795043</td>\n",
              "      <td>9.549407</td>\n",
              "      <td>408.237154</td>\n",
              "      <td>18.455534</td>\n",
              "      <td>356.674032</td>\n",
              "      <td>12.653063</td>\n",
              "      <td>22.532806</td>\n",
              "    </tr>\n",
              "    <tr>\n",
              "      <th>std</th>\n",
              "      <td>8.601545</td>\n",
              "      <td>23.322453</td>\n",
              "      <td>6.860353</td>\n",
              "      <td>0.253994</td>\n",
              "      <td>0.115878</td>\n",
              "      <td>0.702617</td>\n",
              "      <td>28.148861</td>\n",
              "      <td>2.105710</td>\n",
              "      <td>8.707259</td>\n",
              "      <td>168.537116</td>\n",
              "      <td>2.164946</td>\n",
              "      <td>91.294864</td>\n",
              "      <td>7.141062</td>\n",
              "      <td>9.197104</td>\n",
              "    </tr>\n",
              "    <tr>\n",
              "      <th>min</th>\n",
              "      <td>0.006320</td>\n",
              "      <td>0.000000</td>\n",
              "      <td>0.460000</td>\n",
              "      <td>0.000000</td>\n",
              "      <td>0.385000</td>\n",
              "      <td>3.561000</td>\n",
              "      <td>2.900000</td>\n",
              "      <td>1.129600</td>\n",
              "      <td>1.000000</td>\n",
              "      <td>187.000000</td>\n",
              "      <td>12.600000</td>\n",
              "      <td>0.320000</td>\n",
              "      <td>1.730000</td>\n",
              "      <td>5.000000</td>\n",
              "    </tr>\n",
              "    <tr>\n",
              "      <th>25%</th>\n",
              "      <td>0.082045</td>\n",
              "      <td>0.000000</td>\n",
              "      <td>5.190000</td>\n",
              "      <td>0.000000</td>\n",
              "      <td>0.449000</td>\n",
              "      <td>5.885500</td>\n",
              "      <td>45.025000</td>\n",
              "      <td>2.100175</td>\n",
              "      <td>4.000000</td>\n",
              "      <td>279.000000</td>\n",
              "      <td>17.400000</td>\n",
              "      <td>375.377500</td>\n",
              "      <td>6.950000</td>\n",
              "      <td>17.025000</td>\n",
              "    </tr>\n",
              "    <tr>\n",
              "      <th>50%</th>\n",
              "      <td>0.256510</td>\n",
              "      <td>0.000000</td>\n",
              "      <td>9.690000</td>\n",
              "      <td>0.000000</td>\n",
              "      <td>0.538000</td>\n",
              "      <td>6.208500</td>\n",
              "      <td>77.500000</td>\n",
              "      <td>3.207450</td>\n",
              "      <td>5.000000</td>\n",
              "      <td>330.000000</td>\n",
              "      <td>19.050000</td>\n",
              "      <td>391.440000</td>\n",
              "      <td>11.360000</td>\n",
              "      <td>21.200000</td>\n",
              "    </tr>\n",
              "    <tr>\n",
              "      <th>75%</th>\n",
              "      <td>3.677083</td>\n",
              "      <td>12.500000</td>\n",
              "      <td>18.100000</td>\n",
              "      <td>0.000000</td>\n",
              "      <td>0.624000</td>\n",
              "      <td>6.623500</td>\n",
              "      <td>94.075000</td>\n",
              "      <td>5.188425</td>\n",
              "      <td>24.000000</td>\n",
              "      <td>666.000000</td>\n",
              "      <td>20.200000</td>\n",
              "      <td>396.225000</td>\n",
              "      <td>16.955000</td>\n",
              "      <td>25.000000</td>\n",
              "    </tr>\n",
              "    <tr>\n",
              "      <th>max</th>\n",
              "      <td>88.976200</td>\n",
              "      <td>100.000000</td>\n",
              "      <td>27.740000</td>\n",
              "      <td>1.000000</td>\n",
              "      <td>0.871000</td>\n",
              "      <td>8.780000</td>\n",
              "      <td>100.000000</td>\n",
              "      <td>12.126500</td>\n",
              "      <td>24.000000</td>\n",
              "      <td>711.000000</td>\n",
              "      <td>22.000000</td>\n",
              "      <td>396.900000</td>\n",
              "      <td>37.970000</td>\n",
              "      <td>50.000000</td>\n",
              "    </tr>\n",
              "  </tbody>\n",
              "</table>\n",
              "</div>"
            ],
            "text/plain": [
              "               0           1           2   ...          11          12          13\n",
              "count  506.000000  506.000000  506.000000  ...  506.000000  506.000000  506.000000\n",
              "mean     3.613524   11.363636   11.136779  ...  356.674032   12.653063   22.532806\n",
              "std      8.601545   23.322453    6.860353  ...   91.294864    7.141062    9.197104\n",
              "min      0.006320    0.000000    0.460000  ...    0.320000    1.730000    5.000000\n",
              "25%      0.082045    0.000000    5.190000  ...  375.377500    6.950000   17.025000\n",
              "50%      0.256510    0.000000    9.690000  ...  391.440000   11.360000   21.200000\n",
              "75%      3.677083   12.500000   18.100000  ...  396.225000   16.955000   25.000000\n",
              "max     88.976200  100.000000   27.740000  ...  396.900000   37.970000   50.000000\n",
              "\n",
              "[8 rows x 14 columns]"
            ]
          },
          "metadata": {
            "tags": []
          },
          "execution_count": 236
        }
      ]
    },
    {
      "cell_type": "markdown",
      "metadata": {
        "id": "8Gu7J6_ae7aM",
        "colab_type": "text"
      },
      "source": [
        ""
      ]
    },
    {
      "cell_type": "code",
      "metadata": {
        "id": "g3FV2s8FbwZw",
        "colab_type": "code",
        "colab": {}
      },
      "source": [
        "for col in df.columns:\n",
        "  df[f'{col}_outlier'] = df[col].apply(lambda x: 1 if x > \\\n",
        "                                       np.mean(df[col]) + (np.std(df[col])*2)  # 2 standard deviations away from the mean\n",
        "                                       else 0)\n"
      ],
      "execution_count": 0,
      "outputs": []
    },
    {
      "cell_type": "code",
      "metadata": {
        "id": "IcIm4Z8Lfq4Z",
        "colab_type": "code",
        "colab": {}
      },
      "source": [
        "from sklearn.model_selection import train_test_split as tts\n",
        "\n",
        "target = 13\n",
        "omit = [13, '13_outlier']\n",
        "feats = [col for col in df.columns if col not in omit]\n",
        "\n",
        "X = df[feats]\n",
        "y = df[target]\n",
        "\n",
        "X_train, X_test, y_train, y_test = tts(X,y, test_size=.1 ,random_state=SEED)"
      ],
      "execution_count": 0,
      "outputs": []
    },
    {
      "cell_type": "code",
      "metadata": {
        "id": "XAvIGBqhkONS",
        "colab_type": "code",
        "colab": {}
      },
      "source": [
        "X_train = k.utils.normalize(X_train)\n",
        "X_test = k.utils.normalize(X_test)"
      ],
      "execution_count": 0,
      "outputs": []
    },
    {
      "cell_type": "code",
      "metadata": {
        "id": "NT6KEX3fiEt4",
        "colab_type": "code",
        "colab": {
          "base_uri": "https://localhost:8080/",
          "height": 34
        },
        "outputId": "6805c270-ccf7-4fc4-e2d5-461dd7f4d597"
      },
      "source": [
        "lr.fit(X_train, y_train)\n",
        "y_pred = lr.predict(X_test)\n",
        "\n",
        "print(f'{((18.16 - mean_squared_error(y_test, y_pred))/18.16)*100:.02f}%\\\n",
        " improvement')\n"
      ],
      "execution_count": 253,
      "outputs": [
        {
          "output_type": "stream",
          "text": [
            "36.24% improvement\n"
          ],
          "name": "stdout"
        }
      ]
    },
    {
      "cell_type": "code",
      "metadata": {
        "id": "F7kjR0S4jLOv",
        "colab_type": "code",
        "colab": {
          "base_uri": "https://localhost:8080/",
          "height": 34
        },
        "outputId": "b8e7c725-47c9-4a39-dc14-9a6c00b19b4d"
      },
      "source": [
        "X_train.shape"
      ],
      "execution_count": 248,
      "outputs": [
        {
          "output_type": "execute_result",
          "data": {
            "text/plain": [
              "(455, 26)"
            ]
          },
          "metadata": {
            "tags": []
          },
          "execution_count": 248
        }
      ]
    },
    {
      "cell_type": "code",
      "metadata": {
        "id": "IfTrZZqGkNUD",
        "colab_type": "code",
        "colab": {}
      },
      "source": [
        ""
      ],
      "execution_count": 0,
      "outputs": []
    },
    {
      "cell_type": "code",
      "metadata": {
        "id": "dnA1ure5iZDE",
        "colab_type": "code",
        "colab": {
          "base_uri": "https://localhost:8080/",
          "height": 289
        },
        "outputId": "3a83d144-6463-43a6-b85c-35ca4502676b"
      },
      "source": [
        "housing_model = k.Sequential(name='round3...fight')\n",
        "\n",
        "# Input => Hidden\n",
        "housing_model.add(k.layers.Dense(13, input_dim=26, activation='linear'))\n",
        "# Hidden\n",
        "housing_model.add(k.layers.Dense(500, activation='relu'))\n",
        "housing_model.add(k.layers.Dense(500, activation='linear'))\n",
        "\n",
        "# Output\n",
        "housing_model.add(k.layers.Dense(1,activation='linear'))\n",
        "\n",
        "#Compile\n",
        "housing_model.compile(loss='mean_squared_error',\n",
        "                    optimizer='adam',\n",
        "                    metrics=['mse', 'mae'])\n",
        "\n",
        "housing_model.summary()"
      ],
      "execution_count": 257,
      "outputs": [
        {
          "output_type": "stream",
          "text": [
            "Model: \"round3...fight\"\n",
            "_________________________________________________________________\n",
            "Layer (type)                 Output Shape              Param #   \n",
            "=================================================================\n",
            "dense_182 (Dense)            (None, 12)                324       \n",
            "_________________________________________________________________\n",
            "dense_183 (Dense)            (None, 500)               6500      \n",
            "_________________________________________________________________\n",
            "dense_184 (Dense)            (None, 500)               250500    \n",
            "_________________________________________________________________\n",
            "dense_185 (Dense)            (None, 1)                 501       \n",
            "=================================================================\n",
            "Total params: 257,825\n",
            "Trainable params: 257,825\n",
            "Non-trainable params: 0\n",
            "_________________________________________________________________\n"
          ],
          "name": "stdout"
        }
      ]
    },
    {
      "cell_type": "code",
      "metadata": {
        "id": "fD6dDhi7jYI5",
        "colab_type": "code",
        "colab": {
          "base_uri": "https://localhost:8080/",
          "height": 1000
        },
        "outputId": "a8efeaa9-ba28-4319-8c87-145d8f14b2c4"
      },
      "source": [
        "history = housing_model.fit(X_train,y_train, epochs=100, verbose=5)"
      ],
      "execution_count": 258,
      "outputs": [
        {
          "output_type": "stream",
          "text": [
            "Train on 455 samples\n",
            "Epoch 1/100\n",
            "Epoch 2/100\n",
            "Epoch 3/100\n",
            "Epoch 4/100\n",
            "Epoch 5/100\n",
            "Epoch 6/100\n",
            "Epoch 7/100\n",
            "Epoch 8/100\n",
            "Epoch 9/100\n",
            "Epoch 10/100\n",
            "Epoch 11/100\n",
            "Epoch 12/100\n",
            "Epoch 13/100\n",
            "Epoch 14/100\n",
            "Epoch 15/100\n",
            "Epoch 16/100\n",
            "Epoch 17/100\n",
            "Epoch 18/100\n",
            "Epoch 19/100\n",
            "Epoch 20/100\n",
            "Epoch 21/100\n",
            "Epoch 22/100\n",
            "Epoch 23/100\n",
            "Epoch 24/100\n",
            "Epoch 25/100\n",
            "Epoch 26/100\n",
            "Epoch 27/100\n",
            "Epoch 28/100\n",
            "Epoch 29/100\n",
            "Epoch 30/100\n",
            "Epoch 31/100\n",
            "Epoch 32/100\n",
            "Epoch 33/100\n",
            "Epoch 34/100\n",
            "Epoch 35/100\n",
            "Epoch 36/100\n",
            "Epoch 37/100\n",
            "Epoch 38/100\n",
            "Epoch 39/100\n",
            "Epoch 40/100\n",
            "Epoch 41/100\n",
            "Epoch 42/100\n",
            "Epoch 43/100\n",
            "Epoch 44/100\n",
            "Epoch 45/100\n",
            "Epoch 46/100\n",
            "Epoch 47/100\n",
            "Epoch 48/100\n",
            "Epoch 49/100\n",
            "Epoch 50/100\n",
            "Epoch 51/100\n",
            "Epoch 52/100\n",
            "Epoch 53/100\n",
            "Epoch 54/100\n",
            "Epoch 55/100\n",
            "Epoch 56/100\n",
            "Epoch 57/100\n",
            "Epoch 58/100\n",
            "Epoch 59/100\n",
            "Epoch 60/100\n",
            "Epoch 61/100\n",
            "Epoch 62/100\n",
            "Epoch 63/100\n",
            "Epoch 64/100\n",
            "Epoch 65/100\n",
            "Epoch 66/100\n",
            "Epoch 67/100\n",
            "Epoch 68/100\n",
            "Epoch 69/100\n",
            "Epoch 70/100\n",
            "Epoch 71/100\n",
            "Epoch 72/100\n",
            "Epoch 73/100\n",
            "Epoch 74/100\n",
            "Epoch 75/100\n",
            "Epoch 76/100\n",
            "Epoch 77/100\n",
            "Epoch 78/100\n",
            "Epoch 79/100\n",
            "Epoch 80/100\n",
            "Epoch 81/100\n",
            "Epoch 82/100\n",
            "Epoch 83/100\n",
            "Epoch 84/100\n",
            "Epoch 85/100\n",
            "Epoch 86/100\n",
            "Epoch 87/100\n",
            "Epoch 88/100\n",
            "Epoch 89/100\n",
            "Epoch 90/100\n",
            "Epoch 91/100\n",
            "Epoch 92/100\n",
            "Epoch 93/100\n",
            "Epoch 94/100\n",
            "Epoch 95/100\n",
            "Epoch 96/100\n",
            "Epoch 97/100\n",
            "Epoch 98/100\n",
            "Epoch 99/100\n",
            "Epoch 100/100\n"
          ],
          "name": "stdout"
        }
      ]
    },
    {
      "cell_type": "code",
      "metadata": {
        "id": "Ik4FBbxSjeY9",
        "colab_type": "code",
        "colab": {
          "base_uri": "https://localhost:8080/",
          "height": 51
        },
        "outputId": "57d7e0c7-675f-4e91-a3fb-d2a0916cd2c3"
      },
      "source": [
        "scores = housing_model.evaluate(X_test, y_test)\n",
        "print(f'{housing_model.metrics_names[1]}: {scores[1]}')"
      ],
      "execution_count": 259,
      "outputs": [
        {
          "output_type": "stream",
          "text": [
            "51/51 [==============================] - 0s 6ms/sample - loss: 17.9207 - mean_squared_error: 17.9207 - mean_absolute_error: 3.3238\n",
            "mean_squared_error: 17.920656204223633\n"
          ],
          "name": "stdout"
        }
      ]
    },
    {
      "cell_type": "code",
      "metadata": {
        "id": "0iNKrv7tktju",
        "colab_type": "code",
        "colab": {
          "base_uri": "https://localhost:8080/",
          "height": 281
        },
        "outputId": "e733ccb7-99ed-4082-bc48-7e2cd2332a6a"
      },
      "source": [
        "fig, ((ax1,ax2)) = plt.subplots(1,2)\n",
        "ax1.plot(history.history['mean_absolute_error'], color = 'r')\n",
        "ax1.set_title(\"MAE\")\n",
        "ax2.plot(history.history['mean_squared_error'], color = 'b')\n",
        "ax2.set_title(\"MSE\");"
      ],
      "execution_count": 260,
      "outputs": [
        {
          "output_type": "display_data",
          "data": {
            "image/png": "[encoded data removed]",
            "text/plain": [
              "<Figure size 432x288 with 2 Axes>"
            ]
          },
          "metadata": {
            "tags": []
          }
        }
      ]
    },
    {
      "cell_type": "code",
      "metadata": {
        "id": "EH50MG7Tk1Y0",
        "colab_type": "code",
        "colab": {
          "base_uri": "https://localhost:8080/",
          "height": 34
        },
        "outputId": "37467d82-59f1-447d-c56e-cf2ddc92cf49"
      },
      "source": [
        "print(f'{((33.2-17.9)/33.2)*100:.02f}% improvement')"
      ],
      "execution_count": 262,
      "outputs": [
        {
          "output_type": "stream",
          "text": [
            "46.08% improvement\n"
          ],
          "name": "stdout"
        }
      ]
    },
    {
      "cell_type": "markdown",
      "metadata": {
        "colab_type": "text",
        "id": "SfcFnOONyuNm"
      },
      "source": [
        "## Use the Keras Library to build an image recognition network using the Fashion-MNIST dataset (also comes with keras)\n",
        "\n",
        "- Load and preprocess the image data similar to how we preprocessed the MNIST data in class.\n",
        "- Make sure to one-hot encode your category labels\n",
        "- Make sure to have your final layer have as many nodes as the number of classes that you want to predict.\n",
        "- Try different hyperparameters. What is the highest accuracy that you are able to achieve.\n",
        "- Use the history object that is returned from model.fit to make graphs of the model's loss or train/validation accuracies by epoch. \n",
        "- Remember that neural networks fall prey to randomness so you may need to run your model multiple times (or use Cross Validation) in order to tell if a change to a hyperparameter is truly producing better results."
      ]
    },
    {
      "cell_type": "code",
      "metadata": {
        "id": "gx-DpgWU4zqK",
        "colab_type": "code",
        "colab": {}
      },
      "source": [
        ""
      ],
      "execution_count": 0,
      "outputs": []
    },
    {
      "cell_type": "code",
      "metadata": {
        "id": "kNWRkt813-lH",
        "colab_type": "code",
        "colab": {}
      },
      "source": [
        ""
      ],
      "execution_count": 0,
      "outputs": []
    },
    {
      "cell_type": "code",
      "metadata": {
        "colab_type": "code",
        "id": "szi6-IpuzaH1",
        "colab": {}
      },
      "source": [
        "##### Your Code Here #####"
      ],
      "execution_count": 0,
      "outputs": []
    },
    {
      "cell_type": "markdown",
      "metadata": {
        "colab_type": "text",
        "id": "zv_3xNMjzdLI"
      },
      "source": [
        "## Stretch Goals:\n",
        "\n",
        "- Use Hyperparameter Tuning to make the accuracy of your models as high as possible. (error as low as possible)\n",
        "- Use Cross Validation techniques to get more consistent results with your model.\n",
        "- Use GridSearchCV to try different combinations of hyperparameters. \n",
        "- Start looking into other types of Keras layers for CNNs and RNNs maybe try and build a CNN model for fashion-MNIST to see how the results compare."
      ]
    }
  ]
}
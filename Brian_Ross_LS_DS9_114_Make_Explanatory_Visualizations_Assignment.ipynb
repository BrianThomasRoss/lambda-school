{
  "nbformat": 4,
  "nbformat_minor": 0,
  "metadata": {
    "colab": {
      "name": "Brian_Ross_LS_DS9_114_Make_Explanatory_Visualizations_Assignment.ipynb",
      "provenance": [],
      "collapsed_sections": [
        "OxgQrXo17hwx",
        "NEsRj77X-FPI"
      ],
      "include_colab_link": true
    },
    "language_info": {
      "codemirror_mode": {
        "name": "ipython",
        "version": 3
      },
      "file_extension": ".py",
      "mimetype": "text/x-python",
      "name": "python",
      "nbconvert_exporter": "python",
      "pygments_lexer": "ipython3",
      "version": "3.7.1"
    },
    "kernelspec": {
      "display_name": "Python 3",
      "language": "python",
      "name": "python3"
    }
  },
  "cells": [
    {
      "cell_type": "markdown",
      "metadata": {
        "id": "view-in-github",
        "colab_type": "text"
      },
      "source": [
        "<a href=\"https://colab.research.google.com/github/BrianThomasRoss/DS-Unit-1-Sprint-1-Data-Wrangling-and-Storytelling/blob/master/Brian_Ross_LS_DS9_114_Make_Explanatory_Visualizations_Assignment.ipynb\" target=\"_parent\"><img src=\"https://colab.research.google.com/assets/colab-badge.svg\" alt=\"Open In Colab\"/></a>"
      ]
    },
    {
      "cell_type": "markdown",
      "metadata": {
        "colab_type": "text",
        "id": "NMEswXWh9mqw"
      },
      "source": [
        "Lambda School Data Science\n",
        "\n",
        "*Unit 1, Sprint 1, Module 4*\n",
        "\n",
        "---\n",
        "\n",
        "# ASSIGNMENT\n",
        "\n",
        "### 1) Replicate the lesson code. I recommend that you [do not copy-paste](https://docs.google.com/document/d/1ubOw9B3Hfip27hF2ZFnW3a3z9xAgrUDRReOEo-FHCVs/edit).\n",
        "\n",
        "Get caught up to where we got our example in class and then try and take things further. How close to \"pixel perfect\" can you make the lecture graph?\n",
        "\n",
        "Once you have something that you're proud of, share your graph in the cohort channel and move on to the second exercise.\n",
        "\n",
        "### 2) Reproduce another example from [FiveThityEight's shared data repository](https://data.fivethirtyeight.com/).\n",
        "\n",
        "**WARNING**: There are a lot of very custom graphs and tables at the above link. I **highly** recommend not trying to reproduce any that look like a table of values or something really different from the graph types that we are already familiar with. Search through the posts until you find a graph type that you are more or less familiar with: histogram, bar chart, stacked bar chart, line chart, [seaborn relplot](https://seaborn.pydata.org/generated/seaborn.relplot.html), etc. Recreating some of the graphics that 538 uses would be a lot easier in Adobe photoshop/illustrator than with matplotlib. \n",
        "\n",
        "- If you put in some time to find a graph that looks \"easy\" to replicate you'll probably find that it's not as easy as you thought. \n",
        "\n",
        "- If you start with a graph that looks hard to replicate you'll probably run up against a brick wall and be disappointed with your afternoon.\n",
        "\n",
        "\n",
        "\n",
        "\n",
        "\n",
        "\n",
        "\n",
        "\n",
        "\n",
        "\n"
      ]
    },
    {
      "cell_type": "markdown",
      "metadata": {
        "id": "MeXyUcXi6sNo",
        "colab_type": "text"
      },
      "source": [
        "## Replicate the lesson code"
      ]
    },
    {
      "cell_type": "markdown",
      "metadata": {
        "id": "OxgQrXo17hwx",
        "colab_type": "text"
      },
      "source": [
        "### Imports"
      ]
    },
    {
      "cell_type": "code",
      "metadata": {
        "id": "7SY1ZHawyZvz",
        "colab_type": "code",
        "outputId": "71699276-f7d2-4491-e4ba-a0897ba85042",
        "colab": {
          "base_uri": "https://localhost:8080/",
          "height": 0
        }
      },
      "source": [
        "%matplotlib inline\n",
        "import numpy as np\n",
        "import pandas as pd\n",
        "import matplotlib.pyplot as plt\n",
        "from matplotlib.ticker import AutoMinorLocator, MultipleLocator, FuncFormatter \n",
        "\n",
        "\n",
        "### Importing the example image\n",
        "from IPython.display import display, Image\n",
        "\n",
        "url = 'https://fivethirtyeight.com/wp-content/uploads/2017/09/mehtahickey-inconvenient-0830-1.png'\n",
        "example = Image(url=url, width=400)\n",
        "\n",
        "display(example)"
      ],
      "execution_count": 2,
      "outputs": [
        {
          "output_type": "display_data",
          "data": {
            "text/html": [
              "<img src=\"https://fivethirtyeight.com/wp-content/uploads/2017/09/mehtahickey-inconvenient-0830-1.png\" width=\"400\"/>"
            ],
            "text/plain": [
              "<IPython.core.display.Image object>"
            ]
          },
          "metadata": {
            "tags": []
          }
        }
      ]
    },
    {
      "cell_type": "markdown",
      "metadata": {
        "id": "NEsRj77X-FPI",
        "colab_type": "text"
      },
      "source": [
        "### Anatomy of Matplotlib plot"
      ]
    },
    {
      "cell_type": "code",
      "metadata": {
        "id": "oEuxRR5m-PWm",
        "colab_type": "code",
        "outputId": "709b2ed5-7a9e-46ea-f4bd-46a341beb145",
        "colab": {
          "base_uri": "https://localhost:8080/",
          "height": 0
        }
      },
      "source": [
        "\n",
        "\n",
        "np.random.seed(19680801) # Sets seed\n",
        "\n",
        "# Defining the variables\n",
        "X = np.linspace(0.5, 3.5, 100)\n",
        "Y1 = 3+np.cos(X)\n",
        "Y2 = 1+np.cos(1+X/0.75)/2\n",
        "Y3 = np.random.uniform(Y1, Y2, len(X))\n",
        "\n",
        "fig = plt.figure(figsize=(12, 12))  # Sets the size of the figure\n",
        "ax = fig.add_subplot(1, 1, 1, aspect=1) # Sets the size of the plot\n",
        "\n",
        "# Definining a function to ensure major and minor ticks do not occupy the same\n",
        "# locations\n",
        "def minor_tick(x, pos):\n",
        "    if not x % 1.0:\n",
        "        return \"\"\n",
        "    return \"%.2f\" % x\n",
        "# Determines the tick locations\n",
        "ax.xaxis.set_major_locator(MultipleLocator(1.000)) \n",
        "ax.xaxis.set_minor_locator(AutoMinorLocator(4))\n",
        "ax.yaxis.set_major_locator(MultipleLocator(1.000))\n",
        "ax.yaxis.set_minor_locator(AutoMinorLocator(4))\n",
        "ax.xaxis.set_minor_formatter(FuncFormatter(minor_tick)) \n",
        "\n",
        "# Set axis view limits\n",
        "ax.set_xlim(0, 4)\n",
        "ax.set_ylim(0, 4)\n",
        "\n",
        "# Defining the parameters of the ticks\n",
        "ax.tick_params(which='major', width=1.0)\n",
        "ax.tick_params(which='major', length=10)\n",
        "ax.tick_params(which='minor', width=1.0, labelsize=10)\n",
        "ax.tick_params(which='minor', length=5, labelsize=10, labelcolor='0.25')\n",
        "\n",
        "# Calling the grid\n",
        "ax.grid(linestyle=\"--\", linewidth=0.5, color='.25', zorder=-10)\n",
        "\n",
        "# Blue line\n",
        "ax.plot(X, Y1, c=(0.25, 0.25, 1.00), lw=2, label=\"Blue signal\", zorder=10)\n",
        "# Red line\n",
        "ax.plot(X, Y2, c=(1.00, 0.25, 0.25), lw=2, label=\"Red signal\")\n",
        "# Dots\n",
        "ax.plot(X, Y3, linewidth=0,\n",
        "        marker='o', markerfacecolor='w', markeredgecolor='k')\n",
        "\n",
        "# Sets the title and labels\n",
        "ax.set_title(\"Replicated Figure Anatomy\", fontsize=20, verticalalignment='bottom')\n",
        "ax.set_xlabel(\"X axis label\")\n",
        "ax.set_ylabel(\"Y axis label\")\n",
        "\n",
        "# Calling the legend\n",
        "ax.legend()\n",
        "\n",
        "# Defining a function to draw a circle\n",
        "def circle(x, y, radius=0.15):\n",
        "    from matplotlib.patches import Circle\n",
        "    from matplotlib.patheffects import withStroke\n",
        "    circle = Circle((x, y), radius, clip_on=False, zorder=10, linewidth=1,\n",
        "                    edgecolor='black', facecolor=(0, 0, 0, .0125),\n",
        "                    path_effects=[withStroke(linewidth=5, foreground='w')])\n",
        "    ax.add_artist(circle)\n",
        "\n",
        "# Defining a function to place text on the plot and\n",
        "# make use of common text style\n",
        "def text(x, y, text):\n",
        "    ax.text(x, y, text, backgroundcolor=\"white\",\n",
        "            ha='center', va='top', weight='bold', color='blue')\n",
        "\n",
        "# Minor tick\n",
        "circle(0.50, -0.10)\n",
        "text(0.50, -0.32, \"Minor tick label\")\n",
        "\n",
        "# Major tick\n",
        "circle(-0.03, 4.00)\n",
        "text(0.03, 3.80, \"Major tick\")\n",
        "\n",
        "# Minor tick\n",
        "circle(0.00, 3.50)\n",
        "text(0.00, 3.30, \"Minor tick\")\n",
        "\n",
        "# Major tick label\n",
        "circle(-0.15, 3.00)\n",
        "text(-0.15, 2.80, \"Major tick label\")\n",
        "\n",
        "# X Label\n",
        "circle(2, -0.27, .3)\n",
        "text(2, -0.4, \"X axis label\")\n",
        "\n",
        "# Y Label\n",
        "circle(-0.27, 1.80)\n",
        "text(-0.27, 1.6, \"Y axis label\")\n",
        "\n",
        "# Title\n",
        "circle(1.60, 4.13)\n",
        "text(1.60, 3.93, \"Title\")\n",
        "\n",
        "# Blue plot\n",
        "circle(1.75, 2.80)\n",
        "text(1.75, 2.60, \"Line\\n(line plot)\")\n",
        "\n",
        "# Red plot\n",
        "circle(1.20, 0.60)\n",
        "text(1.20, 0.40, \"Line\\n(line plot)\")\n",
        "\n",
        "# Scatter plot\n",
        "circle(3.20, 1.75)\n",
        "text(3.20, 1.55, \"Markers\\n(scatter plot)\")\n",
        "\n",
        "# Grid\n",
        "circle(3.00, 3.00)\n",
        "text(3.00, 2.80, \"Grid\")\n",
        "\n",
        "# Legend\n",
        "circle(3.70, 3.80, .3)\n",
        "text(3.70, 3.60, \"Legend\")\n",
        "\n",
        "# Axes\n",
        "circle(0.5, 0.5)\n",
        "text(0.5, 0.3, \"Axes\")\n",
        "\n",
        "# Figure\n",
        "circle(-0.3, 0.65)\n",
        "text(-0.3, 0.45, \"Figure\")\n",
        "\n",
        "\n",
        "color = 'red'\n",
        "\n",
        "# Annotation for the splines\n",
        "ax.annotate('Spines', xy=(4.0, 0.35), xytext=(3.3, 0.5),\n",
        "            weight='bold', color=color,\n",
        "            arrowprops=dict(arrowstyle='->',\n",
        "                            connectionstyle=\"arc3\",\n",
        "                            color=color))\n",
        "# Sets the second arrow for the spline notation\n",
        "ax.annotate('', xy=(3.15, 0.0), xytext=(3.45, 0.45),\n",
        "            weight='bold', color=color,\n",
        "            arrowprops=dict(arrowstyle='->',\n",
        "                            connectionstyle=\"arc3\",\n",
        "                            color=color))\n",
        "# Sets the citation text\n",
        "ax.text(4.0, -0.4, \"Made with http://matplotlib.org\",\n",
        "        fontsize=10, \n",
        "        ha=\"right\",\n",
        "        color='.5')\n",
        "\n",
        "plt.show()"
      ],
      "execution_count": 11,
      "outputs": [
        {
          "output_type": "display_data",
          "data": {
            "image/png": "[encoded data removed]",
            "text/plain": [
              "<Figure size 864x864 with 1 Axes>"
            ]
          },
          "metadata": {
            "tags": []
          }
        }
      ]
    },
    {
      "cell_type": "markdown",
      "metadata": {
        "id": "BVB42sqkQ0eS",
        "colab_type": "text"
      },
      "source": [
        "### fivethirtyeight graph"
      ]
    },
    {
      "cell_type": "code",
      "metadata": {
        "id": "hsjamkKfkln4",
        "colab_type": "code",
        "outputId": "8aab5346-7a7d-4a56-c31c-c5fe41872262",
        "colab": {
          "base_uri": "https://localhost:8080/",
          "height": 331
        }
      },
      "source": [
        "df = pd.read_csv('https://raw.githubusercontent.com/fivethirtyeight/data/master/inconvenient-sequel/ratings.csv')\n",
        "\n",
        "df['timestamp'] = pd.to_datetime(df['timestamp'])\n",
        "df.set_index('timestamp', inplace=True)\n",
        "lastday = df['2017-08-29']\n",
        "lastday_filtered = lastday[lastday['category'] == 'IMDb users']\n",
        "final = lastday_filtered.tail(1)\n",
        "final.T\n",
        "pct_columns = ['1_pct', '2_pct', '3_pct', '4_pct', '5_pct',\n",
        "               '6_pct', '7_pct', '8_pct', '9_pct', '10_pct']\n",
        "final[pct_columns].T\n",
        "plot_data = final[pct_columns].T\n",
        "plot_data.index = range(1,11)\n",
        "plot_data.columns = ['percent']\n",
        "plot_data"
      ],
      "execution_count": 12,
      "outputs": [
        {
          "output_type": "execute_result",
          "data": {
            "text/html": [
              "<div>\n",
              "<style scoped>\n",
              "    .dataframe tbody tr th:only-of-type {\n",
              "        vertical-align: middle;\n",
              "    }\n",
              "\n",
              "    .dataframe tbody tr th {\n",
              "        vertical-align: top;\n",
              "    }\n",
              "\n",
              "    .dataframe thead th {\n",
              "        text-align: right;\n",
              "    }\n",
              "</style>\n",
              "<table border=\"1\" class=\"dataframe\">\n",
              "  <thead>\n",
              "    <tr style=\"text-align: right;\">\n",
              "      <th></th>\n",
              "      <th>percent</th>\n",
              "    </tr>\n",
              "  </thead>\n",
              "  <tbody>\n",
              "    <tr>\n",
              "      <th>1</th>\n",
              "      <td>38.4</td>\n",
              "    </tr>\n",
              "    <tr>\n",
              "      <th>2</th>\n",
              "      <td>2.6</td>\n",
              "    </tr>\n",
              "    <tr>\n",
              "      <th>3</th>\n",
              "      <td>1.4</td>\n",
              "    </tr>\n",
              "    <tr>\n",
              "      <th>4</th>\n",
              "      <td>0.9</td>\n",
              "    </tr>\n",
              "    <tr>\n",
              "      <th>5</th>\n",
              "      <td>2.1</td>\n",
              "    </tr>\n",
              "    <tr>\n",
              "      <th>6</th>\n",
              "      <td>4.1</td>\n",
              "    </tr>\n",
              "    <tr>\n",
              "      <th>7</th>\n",
              "      <td>5.8</td>\n",
              "    </tr>\n",
              "    <tr>\n",
              "      <th>8</th>\n",
              "      <td>5.5</td>\n",
              "    </tr>\n",
              "    <tr>\n",
              "      <th>9</th>\n",
              "      <td>5.5</td>\n",
              "    </tr>\n",
              "    <tr>\n",
              "      <th>10</th>\n",
              "      <td>33.7</td>\n",
              "    </tr>\n",
              "  </tbody>\n",
              "</table>\n",
              "</div>"
            ],
            "text/plain": [
              "    percent\n",
              "1      38.4\n",
              "2       2.6\n",
              "3       1.4\n",
              "4       0.9\n",
              "5       2.1\n",
              "6       4.1\n",
              "7       5.8\n",
              "8       5.5\n",
              "9       5.5\n",
              "10     33.7"
            ]
          },
          "metadata": {
            "tags": []
          },
          "execution_count": 12
        }
      ]
    },
    {
      "cell_type": "code",
      "metadata": {
        "id": "rQfOfhZ0Q-_N",
        "colab_type": "code",
        "outputId": "a65039c7-c349-4627-a044-085db8bd822d",
        "colab": {
          "base_uri": "https://localhost:8080/",
          "height": 666
        }
      },
      "source": [
        "from matplotlib import spines\n",
        "fig, ax = plt.subplots()\n",
        "\n",
        "\n",
        "\n",
        "# Set the bars\n",
        "ax.bar(x=range(1,11), height=plot_data['percent'], width=0.9, color=\"#ED713A\")\n",
        "\n",
        "# Set figure and background opacity to transparent\n",
        "fig.patch.set(facecolor=\"none\")\n",
        "ax.set(facecolor=\"none\")\n",
        "\n",
        "# Title\n",
        "ax.set_title(\"'An Inconvenient Sequel: Truth To Power' is divisive\", \n",
        "             fontsize=12, \n",
        "             x=.38, \n",
        "             y=1.12,\n",
        "             fontweight='bold',\n",
        "             color='.1')\n",
        "# Subtitle\n",
        "ax.text(s=\"IMDb ratings for the film as of Aug. 29\",\n",
        "        fontsize=12,\n",
        "        x=-.9,\n",
        "        y=43,\n",
        "        color='.1');\n",
        "\n",
        "# Tick parameters\n",
        "ax.tick_params(which='major', width=1.0, color='.5')\n",
        "ax.tick_params(which='major', length=10, color='.5')\n",
        "ax.tick_params(which='minor', width=1.0, labelsize=10, color='0.5')\n",
        "ax.tick_params(which='minor', length=1, labelsize=10, color='0.5')\n",
        "\n",
        "# Spine settings\n",
        "ax.spines['right'].set_visible(False)\n",
        "ax.spines['left'].set_visible(False)\n",
        "ax.spines['top'].set_visible(False)\n",
        "ax.spines['bottom'].set_color('.5')\n",
        "ax.spines['bottom'].set_linewidth('.5')\n",
        "\n",
        "\n",
        "\n",
        "# Set grid color\n",
        "ax.grid(color='.5')\n",
        "ax.set_axisbelow(True)\n",
        "ax.yaxis.grid(color='gray')\n",
        "\n",
        "# Set the x and y axis labels\n",
        "ax.set_xlabel(\"Rating\",\n",
        "              fontweight='bold',\n",
        "              fontsize=10,\n",
        "              x=.49,\n",
        "              y=-1)\n",
        "\n",
        "ax.set_ylabel(\"Percent of total votes\",\n",
        "              fontsize=9,\n",
        "              fontweight='bold')\n",
        "\n",
        "# Fix the x an y axis tick marks and grid\n",
        "ax.set_xticklabels(range(1,11), rotation=0, color='.5')\n",
        "ax.set_xticks(range(1,11))\n",
        "ax.set_yticklabels(range(0,50,10), color='.5', va='center')\n",
        "ax.set_yticks(range(0,50,10));\n",
        "\n",
        "display(example)"
      ],
      "execution_count": 16,
      "outputs": [
        {
          "output_type": "display_data",
          "data": {
            "text/html": [
              "<img src=\"https://fivethirtyeight.com/wp-content/uploads/2017/09/mehtahickey-inconvenient-0830-1.png\" width=\"400\"/>"
            ],
            "text/plain": [
              "<IPython.core.display.Image object>"
            ]
          },
          "metadata": {
            "tags": []
          }
        },
        {
          "output_type": "display_data",
          "data": {
            "image/png": "[encoded data removed]",
            "text/plain": [
              "<Figure size 432x288 with 1 Axes>"
            ]
          },
          "metadata": {
            "tags": []
          }
        }
      ]
    },
    {
      "cell_type": "code",
      "metadata": {
        "id": "8qGwfcC5kkRb",
        "colab_type": "code",
        "colab": {}
      },
      "source": [
        ""
      ],
      "execution_count": 0,
      "outputs": []
    },
    {
      "cell_type": "markdown",
      "metadata": {
        "id": "wAcaVLYLwtK_",
        "colab_type": "text"
      },
      "source": [
        "## Reproduce another example"
      ]
    },
    {
      "cell_type": "markdown",
      "metadata": {
        "id": "1rnsp3qxy1zS",
        "colab_type": "text"
      },
      "source": [
        "### The Data"
      ]
    },
    {
      "cell_type": "code",
      "metadata": {
        "id": "zKNAKd90wwe8",
        "colab_type": "code",
        "colab": {
          "base_uri": "https://localhost:8080/",
          "height": 432
        },
        "outputId": "08c8a941-c470-4a73-d7fe-d709ca30f98f"
      },
      "source": [
        "### Creating a second example image to reference\n",
        "\n",
        "url2 = 'https://fivethirtyeight.com/wp-content/uploads/2015/04/barry-jester-datalab-boomersdruguse-actual.png?w=575'\n",
        "example2 = Image(url=url2, width=600)\n",
        "\n",
        "display(example2)"
      ],
      "execution_count": 26,
      "outputs": [
        {
          "output_type": "display_data",
          "data": {
            "text/html": [
              "<img src=\"https://fivethirtyeight.com/wp-content/uploads/2015/04/barry-jester-datalab-boomersdruguse-actual.png?w=575\" width=\"600\"/>"
            ],
            "text/plain": [
              "<IPython.core.display.Image object>"
            ]
          },
          "metadata": {
            "tags": []
          }
        }
      ]
    },
    {
      "cell_type": "code",
      "metadata": {
        "id": "rjFskReXkaBW",
        "colab_type": "code",
        "colab": {}
      },
      "source": [
        "### uploading the csv\n",
        "drug_use = pd.read_csv('https://raw.githubusercontent.com/fivethirtyeight/data/master/drug-use-by-age/drug-use-by-age.csv')"
      ],
      "execution_count": 0,
      "outputs": []
    },
    {
      "cell_type": "code",
      "metadata": {
        "id": "5v1ejzbJkgcX",
        "colab_type": "code",
        "colab": {
          "base_uri": "https://localhost:8080/",
          "height": 242
        },
        "outputId": "4d09a127-7773-4eef-cfa5-dc1437f8b13d"
      },
      "source": [
        "# Exploring\n",
        "drug_use.head()"
      ],
      "execution_count": 84,
      "outputs": [
        {
          "output_type": "execute_result",
          "data": {
            "text/html": [
              "<div>\n",
              "<style scoped>\n",
              "    .dataframe tbody tr th:only-of-type {\n",
              "        vertical-align: middle;\n",
              "    }\n",
              "\n",
              "    .dataframe tbody tr th {\n",
              "        vertical-align: top;\n",
              "    }\n",
              "\n",
              "    .dataframe thead th {\n",
              "        text-align: right;\n",
              "    }\n",
              "</style>\n",
              "<table border=\"1\" class=\"dataframe\">\n",
              "  <thead>\n",
              "    <tr style=\"text-align: right;\">\n",
              "      <th></th>\n",
              "      <th>age</th>\n",
              "      <th>n</th>\n",
              "      <th>alcohol-use</th>\n",
              "      <th>alcohol-frequency</th>\n",
              "      <th>marijuana-use</th>\n",
              "      <th>marijuana-frequency</th>\n",
              "      <th>cocaine-use</th>\n",
              "      <th>cocaine-frequency</th>\n",
              "      <th>crack-use</th>\n",
              "      <th>crack-frequency</th>\n",
              "      <th>heroin-use</th>\n",
              "      <th>heroin-frequency</th>\n",
              "      <th>hallucinogen-use</th>\n",
              "      <th>hallucinogen-frequency</th>\n",
              "      <th>inhalant-use</th>\n",
              "      <th>inhalant-frequency</th>\n",
              "      <th>pain-releiver-use</th>\n",
              "      <th>pain-releiver-frequency</th>\n",
              "      <th>oxycontin-use</th>\n",
              "      <th>oxycontin-frequency</th>\n",
              "      <th>tranquilizer-use</th>\n",
              "      <th>tranquilizer-frequency</th>\n",
              "      <th>stimulant-use</th>\n",
              "      <th>stimulant-frequency</th>\n",
              "      <th>meth-use</th>\n",
              "      <th>meth-frequency</th>\n",
              "      <th>sedative-use</th>\n",
              "      <th>sedative-frequency</th>\n",
              "    </tr>\n",
              "  </thead>\n",
              "  <tbody>\n",
              "    <tr>\n",
              "      <th>0</th>\n",
              "      <td>12</td>\n",
              "      <td>2798</td>\n",
              "      <td>3.9</td>\n",
              "      <td>3.0</td>\n",
              "      <td>1.1</td>\n",
              "      <td>4.0</td>\n",
              "      <td>0.1</td>\n",
              "      <td>5.0</td>\n",
              "      <td>0.0</td>\n",
              "      <td>-</td>\n",
              "      <td>0.1</td>\n",
              "      <td>35.5</td>\n",
              "      <td>0.2</td>\n",
              "      <td>52.0</td>\n",
              "      <td>1.6</td>\n",
              "      <td>19.0</td>\n",
              "      <td>2.0</td>\n",
              "      <td>36.0</td>\n",
              "      <td>0.1</td>\n",
              "      <td>24.5</td>\n",
              "      <td>0.2</td>\n",
              "      <td>52.0</td>\n",
              "      <td>0.2</td>\n",
              "      <td>2.0</td>\n",
              "      <td>0.0</td>\n",
              "      <td>-</td>\n",
              "      <td>0.2</td>\n",
              "      <td>13.0</td>\n",
              "    </tr>\n",
              "    <tr>\n",
              "      <th>1</th>\n",
              "      <td>13</td>\n",
              "      <td>2757</td>\n",
              "      <td>8.5</td>\n",
              "      <td>6.0</td>\n",
              "      <td>3.4</td>\n",
              "      <td>15.0</td>\n",
              "      <td>0.1</td>\n",
              "      <td>1.0</td>\n",
              "      <td>0.0</td>\n",
              "      <td>3.0</td>\n",
              "      <td>0.0</td>\n",
              "      <td>-</td>\n",
              "      <td>0.6</td>\n",
              "      <td>6.0</td>\n",
              "      <td>2.5</td>\n",
              "      <td>12.0</td>\n",
              "      <td>2.4</td>\n",
              "      <td>14.0</td>\n",
              "      <td>0.1</td>\n",
              "      <td>41.0</td>\n",
              "      <td>0.3</td>\n",
              "      <td>25.5</td>\n",
              "      <td>0.3</td>\n",
              "      <td>4.0</td>\n",
              "      <td>0.1</td>\n",
              "      <td>5.0</td>\n",
              "      <td>0.1</td>\n",
              "      <td>19.0</td>\n",
              "    </tr>\n",
              "    <tr>\n",
              "      <th>2</th>\n",
              "      <td>14</td>\n",
              "      <td>2792</td>\n",
              "      <td>18.1</td>\n",
              "      <td>5.0</td>\n",
              "      <td>8.7</td>\n",
              "      <td>24.0</td>\n",
              "      <td>0.1</td>\n",
              "      <td>5.5</td>\n",
              "      <td>0.0</td>\n",
              "      <td>-</td>\n",
              "      <td>0.1</td>\n",
              "      <td>2.0</td>\n",
              "      <td>1.6</td>\n",
              "      <td>3.0</td>\n",
              "      <td>2.6</td>\n",
              "      <td>5.0</td>\n",
              "      <td>3.9</td>\n",
              "      <td>12.0</td>\n",
              "      <td>0.4</td>\n",
              "      <td>4.5</td>\n",
              "      <td>0.9</td>\n",
              "      <td>5.0</td>\n",
              "      <td>0.8</td>\n",
              "      <td>12.0</td>\n",
              "      <td>0.1</td>\n",
              "      <td>24.0</td>\n",
              "      <td>0.2</td>\n",
              "      <td>16.5</td>\n",
              "    </tr>\n",
              "    <tr>\n",
              "      <th>3</th>\n",
              "      <td>15</td>\n",
              "      <td>2956</td>\n",
              "      <td>29.2</td>\n",
              "      <td>6.0</td>\n",
              "      <td>14.5</td>\n",
              "      <td>25.0</td>\n",
              "      <td>0.5</td>\n",
              "      <td>4.0</td>\n",
              "      <td>0.1</td>\n",
              "      <td>9.5</td>\n",
              "      <td>0.2</td>\n",
              "      <td>1.0</td>\n",
              "      <td>2.1</td>\n",
              "      <td>4.0</td>\n",
              "      <td>2.5</td>\n",
              "      <td>5.5</td>\n",
              "      <td>5.5</td>\n",
              "      <td>10.0</td>\n",
              "      <td>0.8</td>\n",
              "      <td>3.0</td>\n",
              "      <td>2.0</td>\n",
              "      <td>4.5</td>\n",
              "      <td>1.5</td>\n",
              "      <td>6.0</td>\n",
              "      <td>0.3</td>\n",
              "      <td>10.5</td>\n",
              "      <td>0.4</td>\n",
              "      <td>30.0</td>\n",
              "    </tr>\n",
              "    <tr>\n",
              "      <th>4</th>\n",
              "      <td>16</td>\n",
              "      <td>3058</td>\n",
              "      <td>40.1</td>\n",
              "      <td>10.0</td>\n",
              "      <td>22.5</td>\n",
              "      <td>30.0</td>\n",
              "      <td>1.0</td>\n",
              "      <td>7.0</td>\n",
              "      <td>0.0</td>\n",
              "      <td>1.0</td>\n",
              "      <td>0.1</td>\n",
              "      <td>66.5</td>\n",
              "      <td>3.4</td>\n",
              "      <td>3.0</td>\n",
              "      <td>3.0</td>\n",
              "      <td>3.0</td>\n",
              "      <td>6.2</td>\n",
              "      <td>7.0</td>\n",
              "      <td>1.1</td>\n",
              "      <td>4.0</td>\n",
              "      <td>2.4</td>\n",
              "      <td>11.0</td>\n",
              "      <td>1.8</td>\n",
              "      <td>9.5</td>\n",
              "      <td>0.3</td>\n",
              "      <td>36.0</td>\n",
              "      <td>0.2</td>\n",
              "      <td>3.0</td>\n",
              "    </tr>\n",
              "  </tbody>\n",
              "</table>\n",
              "</div>"
            ],
            "text/plain": [
              "  age     n  alcohol-use  ...  meth-frequency  sedative-use  sedative-frequency\n",
              "0  12  2798          3.9  ...               -           0.2                13.0\n",
              "1  13  2757          8.5  ...             5.0           0.1                19.0\n",
              "2  14  2792         18.1  ...            24.0           0.2                16.5\n",
              "3  15  2956         29.2  ...            10.5           0.4                30.0\n",
              "4  16  3058         40.1  ...            36.0           0.2                 3.0\n",
              "\n",
              "[5 rows x 28 columns]"
            ]
          },
          "metadata": {
            "tags": []
          },
          "execution_count": 84
        }
      ]
    },
    {
      "cell_type": "code",
      "metadata": {
        "id": "zlEn6jqdpv7m",
        "colab_type": "code",
        "colab": {
          "base_uri": "https://localhost:8080/",
          "height": 520
        },
        "outputId": "89f3f366-1c2e-4a62-f4c6-bfc0df0994fa"
      },
      "source": [
        "drug_use.columns.tolist()"
      ],
      "execution_count": 85,
      "outputs": [
        {
          "output_type": "execute_result",
          "data": {
            "text/plain": [
              "['age',\n",
              " 'n',\n",
              " 'alcohol-use',\n",
              " 'alcohol-frequency',\n",
              " 'marijuana-use',\n",
              " 'marijuana-frequency',\n",
              " 'cocaine-use',\n",
              " 'cocaine-frequency',\n",
              " 'crack-use',\n",
              " 'crack-frequency',\n",
              " 'heroin-use',\n",
              " 'heroin-frequency',\n",
              " 'hallucinogen-use',\n",
              " 'hallucinogen-frequency',\n",
              " 'inhalant-use',\n",
              " 'inhalant-frequency',\n",
              " 'pain-releiver-use',\n",
              " 'pain-releiver-frequency',\n",
              " 'oxycontin-use',\n",
              " 'oxycontin-frequency',\n",
              " 'tranquilizer-use',\n",
              " 'tranquilizer-frequency',\n",
              " 'stimulant-use',\n",
              " 'stimulant-frequency',\n",
              " 'meth-use',\n",
              " 'meth-frequency',\n",
              " 'sedative-use',\n",
              " 'sedative-frequency']"
            ]
          },
          "metadata": {
            "tags": []
          },
          "execution_count": 85
        }
      ]
    },
    {
      "cell_type": "code",
      "metadata": {
        "id": "Icqjsx0-qMrw",
        "colab_type": "code",
        "colab": {
          "base_uri": "https://localhost:8080/",
          "height": 340
        },
        "outputId": "67634fc6-35b2-4186-df58-1c62fe6d4d3a"
      },
      "source": [
        "drug_use.age"
      ],
      "execution_count": 86,
      "outputs": [
        {
          "output_type": "execute_result",
          "data": {
            "text/plain": [
              "0        12\n",
              "1        13\n",
              "2        14\n",
              "3        15\n",
              "4        16\n",
              "5        17\n",
              "6        18\n",
              "7        19\n",
              "8        20\n",
              "9        21\n",
              "10    22-23\n",
              "11    24-25\n",
              "12    26-29\n",
              "13    30-34\n",
              "14    35-49\n",
              "15    50-64\n",
              "16      65+\n",
              "Name: age, dtype: object"
            ]
          },
          "metadata": {
            "tags": []
          },
          "execution_count": 86
        }
      ]
    },
    {
      "cell_type": "code",
      "metadata": {
        "id": "kSBNkmc2pgIW",
        "colab_type": "code",
        "colab": {
          "base_uri": "https://localhost:8080/",
          "height": 144
        },
        "outputId": "d265c500-8c44-4cea-cda2-20a984b75f8c"
      },
      "source": [
        "# Filtering to needed age group\n",
        "boomer_df = drug_use[drug_use.age == '50-64']\n",
        "boomer_df.head()"
      ],
      "execution_count": 87,
      "outputs": [
        {
          "output_type": "execute_result",
          "data": {
            "text/html": [
              "<div>\n",
              "<style scoped>\n",
              "    .dataframe tbody tr th:only-of-type {\n",
              "        vertical-align: middle;\n",
              "    }\n",
              "\n",
              "    .dataframe tbody tr th {\n",
              "        vertical-align: top;\n",
              "    }\n",
              "\n",
              "    .dataframe thead th {\n",
              "        text-align: right;\n",
              "    }\n",
              "</style>\n",
              "<table border=\"1\" class=\"dataframe\">\n",
              "  <thead>\n",
              "    <tr style=\"text-align: right;\">\n",
              "      <th></th>\n",
              "      <th>age</th>\n",
              "      <th>n</th>\n",
              "      <th>alcohol-use</th>\n",
              "      <th>alcohol-frequency</th>\n",
              "      <th>marijuana-use</th>\n",
              "      <th>marijuana-frequency</th>\n",
              "      <th>cocaine-use</th>\n",
              "      <th>cocaine-frequency</th>\n",
              "      <th>crack-use</th>\n",
              "      <th>crack-frequency</th>\n",
              "      <th>heroin-use</th>\n",
              "      <th>heroin-frequency</th>\n",
              "      <th>hallucinogen-use</th>\n",
              "      <th>hallucinogen-frequency</th>\n",
              "      <th>inhalant-use</th>\n",
              "      <th>inhalant-frequency</th>\n",
              "      <th>pain-releiver-use</th>\n",
              "      <th>pain-releiver-frequency</th>\n",
              "      <th>oxycontin-use</th>\n",
              "      <th>oxycontin-frequency</th>\n",
              "      <th>tranquilizer-use</th>\n",
              "      <th>tranquilizer-frequency</th>\n",
              "      <th>stimulant-use</th>\n",
              "      <th>stimulant-frequency</th>\n",
              "      <th>meth-use</th>\n",
              "      <th>meth-frequency</th>\n",
              "      <th>sedative-use</th>\n",
              "      <th>sedative-frequency</th>\n",
              "    </tr>\n",
              "  </thead>\n",
              "  <tbody>\n",
              "    <tr>\n",
              "      <th>15</th>\n",
              "      <td>50-64</td>\n",
              "      <td>3923</td>\n",
              "      <td>67.2</td>\n",
              "      <td>52.0</td>\n",
              "      <td>7.3</td>\n",
              "      <td>52.0</td>\n",
              "      <td>0.9</td>\n",
              "      <td>36.0</td>\n",
              "      <td>0.4</td>\n",
              "      <td>62.0</td>\n",
              "      <td>0.1</td>\n",
              "      <td>41.0</td>\n",
              "      <td>0.3</td>\n",
              "      <td>44.0</td>\n",
              "      <td>0.2</td>\n",
              "      <td>13.5</td>\n",
              "      <td>2.5</td>\n",
              "      <td>12.0</td>\n",
              "      <td>0.4</td>\n",
              "      <td>5.0</td>\n",
              "      <td>1.4</td>\n",
              "      <td>10.0</td>\n",
              "      <td>0.3</td>\n",
              "      <td>24.0</td>\n",
              "      <td>0.2</td>\n",
              "      <td>30.0</td>\n",
              "      <td>0.2</td>\n",
              "      <td>104.0</td>\n",
              "    </tr>\n",
              "  </tbody>\n",
              "</table>\n",
              "</div>"
            ],
            "text/plain": [
              "      age     n  alcohol-use  ...  meth-frequency  sedative-use  sedative-frequency\n",
              "15  50-64  3923         67.2  ...            30.0           0.2               104.0\n",
              "\n",
              "[1 rows x 28 columns]"
            ]
          },
          "metadata": {
            "tags": []
          },
          "execution_count": 87
        }
      ]
    },
    {
      "cell_type": "code",
      "metadata": {
        "id": "cWgjFaUHrC2r",
        "colab_type": "code",
        "colab": {
          "base_uri": "https://localhost:8080/",
          "height": 75
        },
        "outputId": "91ba628c-a0b1-40f2-c741-a973bcccfcfd"
      },
      "source": [
        "# Filtering out the columns I don't need\n",
        "boomer_df_filtered = boomer_df[['marijuana-use',\n",
        "                                'pain-releiver-use',\n",
        "                                'tranquilizer-use',\n",
        "                                'cocaine-use',\n",
        "                                'crack-use',\n",
        "                                'oxycontin-use',\n",
        "                                'stimulant-use',\n",
        "                                'hallucinogen-use',\n",
        "                                'sedative-use',\n",
        "                                'inhalant-use',\n",
        "                                'meth-use',\n",
        "                                'heroin-use']]\n",
        "\n",
        "boomer_df_filtered"
      ],
      "execution_count": 88,
      "outputs": [
        {
          "output_type": "execute_result",
          "data": {
            "text/html": [
              "<div>\n",
              "<style scoped>\n",
              "    .dataframe tbody tr th:only-of-type {\n",
              "        vertical-align: middle;\n",
              "    }\n",
              "\n",
              "    .dataframe tbody tr th {\n",
              "        vertical-align: top;\n",
              "    }\n",
              "\n",
              "    .dataframe thead th {\n",
              "        text-align: right;\n",
              "    }\n",
              "</style>\n",
              "<table border=\"1\" class=\"dataframe\">\n",
              "  <thead>\n",
              "    <tr style=\"text-align: right;\">\n",
              "      <th></th>\n",
              "      <th>marijuana-use</th>\n",
              "      <th>pain-releiver-use</th>\n",
              "      <th>tranquilizer-use</th>\n",
              "      <th>cocaine-use</th>\n",
              "      <th>crack-use</th>\n",
              "      <th>oxycontin-use</th>\n",
              "      <th>stimulant-use</th>\n",
              "      <th>hallucinogen-use</th>\n",
              "      <th>sedative-use</th>\n",
              "      <th>inhalant-use</th>\n",
              "      <th>meth-use</th>\n",
              "      <th>heroin-use</th>\n",
              "    </tr>\n",
              "  </thead>\n",
              "  <tbody>\n",
              "    <tr>\n",
              "      <th>15</th>\n",
              "      <td>7.3</td>\n",
              "      <td>2.5</td>\n",
              "      <td>1.4</td>\n",
              "      <td>0.9</td>\n",
              "      <td>0.4</td>\n",
              "      <td>0.4</td>\n",
              "      <td>0.3</td>\n",
              "      <td>0.3</td>\n",
              "      <td>0.2</td>\n",
              "      <td>0.2</td>\n",
              "      <td>0.2</td>\n",
              "      <td>0.1</td>\n",
              "    </tr>\n",
              "  </tbody>\n",
              "</table>\n",
              "</div>"
            ],
            "text/plain": [
              "    marijuana-use  pain-releiver-use  ...  meth-use  heroin-use\n",
              "15            7.3                2.5  ...       0.2         0.1\n",
              "\n",
              "[1 rows x 12 columns]"
            ]
          },
          "metadata": {
            "tags": []
          },
          "execution_count": 88
        }
      ]
    },
    {
      "cell_type": "code",
      "metadata": {
        "id": "PmrgVOIksbY6",
        "colab_type": "code",
        "colab": {
          "base_uri": "https://localhost:8080/",
          "height": 34
        },
        "outputId": "63e898a5-da97-4c7d-bc59-24b182615ec1"
      },
      "source": [
        "# Defining a function to rename the columns\n",
        "test_cases = ['marijuana-cocaine-use', 'marijuana use', 'rubber-duck-use']\n",
        "\n",
        "def strip_use(label):\n",
        "  new_label = label[:-4].replace('-', ' ').title()\n",
        "  return new_label\n",
        "\n",
        "[strip_use(item) for item in test_cases]\n",
        "\n"
      ],
      "execution_count": 89,
      "outputs": [
        {
          "output_type": "execute_result",
          "data": {
            "text/plain": [
              "['Marijuana Cocaine', 'Marijuana', 'Rubber Duck']"
            ]
          },
          "metadata": {
            "tags": []
          },
          "execution_count": 89
        }
      ]
    },
    {
      "cell_type": "code",
      "metadata": {
        "id": "CZMjTeTPxAXL",
        "colab_type": "code",
        "colab": {}
      },
      "source": [
        "boomer_df_filtered.columns = boomer_df_filtered.columns.to_series().apply(strip_use)"
      ],
      "execution_count": 0,
      "outputs": []
    },
    {
      "cell_type": "code",
      "metadata": {
        "id": "1IGMB1AM1QVG",
        "colab_type": "code",
        "colab": {}
      },
      "source": [
        "boomer_df_filtered = boomer_df_filtered.T"
      ],
      "execution_count": 0,
      "outputs": []
    },
    {
      "cell_type": "code",
      "metadata": {
        "id": "-rFxsCdHypeO",
        "colab_type": "code",
        "colab": {}
      },
      "source": [
        "plot_data = boomer_df_filtered.reset_index()\n"
      ],
      "execution_count": 0,
      "outputs": []
    },
    {
      "cell_type": "code",
      "metadata": {
        "id": "LCJ-J9nV3GUz",
        "colab_type": "code",
        "colab": {
          "base_uri": "https://localhost:8080/",
          "height": 388
        },
        "outputId": "2103f72d-b61d-40b8-cc5b-074212a91668"
      },
      "source": [
        "plot_data.columns = ['drug', 'use percentage']\n",
        "\n",
        "plot_data"
      ],
      "execution_count": 99,
      "outputs": [
        {
          "output_type": "execute_result",
          "data": {
            "text/html": [
              "<div>\n",
              "<style scoped>\n",
              "    .dataframe tbody tr th:only-of-type {\n",
              "        vertical-align: middle;\n",
              "    }\n",
              "\n",
              "    .dataframe tbody tr th {\n",
              "        vertical-align: top;\n",
              "    }\n",
              "\n",
              "    .dataframe thead th {\n",
              "        text-align: right;\n",
              "    }\n",
              "</style>\n",
              "<table border=\"1\" class=\"dataframe\">\n",
              "  <thead>\n",
              "    <tr style=\"text-align: right;\">\n",
              "      <th></th>\n",
              "      <th>drug</th>\n",
              "      <th>use percentage</th>\n",
              "    </tr>\n",
              "  </thead>\n",
              "  <tbody>\n",
              "    <tr>\n",
              "      <th>0</th>\n",
              "      <td>Marijuana</td>\n",
              "      <td>7.3</td>\n",
              "    </tr>\n",
              "    <tr>\n",
              "      <th>1</th>\n",
              "      <td>Pain Releiver</td>\n",
              "      <td>2.5</td>\n",
              "    </tr>\n",
              "    <tr>\n",
              "      <th>2</th>\n",
              "      <td>Tranquilizer</td>\n",
              "      <td>1.4</td>\n",
              "    </tr>\n",
              "    <tr>\n",
              "      <th>3</th>\n",
              "      <td>Cocaine</td>\n",
              "      <td>0.9</td>\n",
              "    </tr>\n",
              "    <tr>\n",
              "      <th>4</th>\n",
              "      <td>Crack</td>\n",
              "      <td>0.4</td>\n",
              "    </tr>\n",
              "    <tr>\n",
              "      <th>5</th>\n",
              "      <td>Oxycontin</td>\n",
              "      <td>0.4</td>\n",
              "    </tr>\n",
              "    <tr>\n",
              "      <th>6</th>\n",
              "      <td>Stimulant</td>\n",
              "      <td>0.3</td>\n",
              "    </tr>\n",
              "    <tr>\n",
              "      <th>7</th>\n",
              "      <td>Hallucinogen</td>\n",
              "      <td>0.3</td>\n",
              "    </tr>\n",
              "    <tr>\n",
              "      <th>8</th>\n",
              "      <td>Sedative</td>\n",
              "      <td>0.2</td>\n",
              "    </tr>\n",
              "    <tr>\n",
              "      <th>9</th>\n",
              "      <td>Inhalant</td>\n",
              "      <td>0.2</td>\n",
              "    </tr>\n",
              "    <tr>\n",
              "      <th>10</th>\n",
              "      <td>Meth</td>\n",
              "      <td>0.2</td>\n",
              "    </tr>\n",
              "    <tr>\n",
              "      <th>11</th>\n",
              "      <td>Heroin</td>\n",
              "      <td>0.1</td>\n",
              "    </tr>\n",
              "  </tbody>\n",
              "</table>\n",
              "</div>"
            ],
            "text/plain": [
              "             drug  use percentage\n",
              "0       Marijuana             7.3\n",
              "1   Pain Releiver             2.5\n",
              "2    Tranquilizer             1.4\n",
              "3         Cocaine             0.9\n",
              "4           Crack             0.4\n",
              "5       Oxycontin             0.4\n",
              "6       Stimulant             0.3\n",
              "7    Hallucinogen             0.3\n",
              "8        Sedative             0.2\n",
              "9        Inhalant             0.2\n",
              "10           Meth             0.2\n",
              "11         Heroin             0.1"
            ]
          },
          "metadata": {
            "tags": []
          },
          "execution_count": 99
        }
      ]
    },
    {
      "cell_type": "markdown",
      "metadata": {
        "id": "MzQzFknzyqUm",
        "colab_type": "text"
      },
      "source": [
        "### The Graph"
      ]
    },
    {
      "cell_type": "code",
      "metadata": {
        "id": "6Jphd2iPyw9L",
        "colab_type": "code",
        "colab": {
          "base_uri": "https://localhost:8080/",
          "height": 829
        },
        "outputId": "37c6b3c4-ed8d-4626-f669-381cee846f5d"
      },
      "source": [
        "from matplotlib import spines\n",
        "\n",
        "fig, ax = plt.subplots(figsize=(8,6))\n",
        "\n",
        "# Example data\n",
        "drugs = plot_data['drug']\n",
        "y_pos = np.arange(len(drugs))\n",
        "performance = plot_data['use percentage']\n",
        "\n",
        "ax.set_title('Percentage of Americans aged 50-64 who said in a 2012 survey \\n that they had used the following drugs in the past year',\n",
        "             ha='left',\n",
        "             x=-.21,\n",
        "             y=1.05,\n",
        "             fontsize=17)\n",
        "\n",
        "ax.barh(y_pos,\n",
        "        performance,\n",
        "        align='center',\n",
        "        color='#FF2600')\n",
        "ax.set_xticklabels\n",
        "\n",
        "# Spine settings\n",
        "ax.spines['right'].set_visible(False)\n",
        "ax.spines['top'].set_visible(False)\n",
        "ax.spines['bottom'].set_visible(False)\n",
        "ax.spines['left'].set_visible(False)\n",
        "\n",
        "# Tick Settings\n",
        "ax.set_yticks(y_pos)\n",
        "\n",
        "ax.set_yticklabels(drugs,\n",
        "                   fontsize=16)\n",
        "\n",
        "plt.tick_params(\n",
        "    axis='both',         \n",
        "    which='both',\n",
        "    length=0,      \n",
        "    bottom=False,      \n",
        "    top=False,         \n",
        "    labelbottom=False)\n",
        "\n",
        "\n",
        "\n",
        "# Lists values top to bottom\n",
        "ax.invert_yaxis()  \n",
        "\n",
        "\n",
        "\n",
        "plt.show()\n",
        "\n",
        "\n",
        "display(example2)"
      ],
      "execution_count": 163,
      "outputs": [
        {
          "output_type": "display_data",
          "data": {
            "image/png": "[encoded data removed]",
            "text/plain": [
              "<Figure size 576x432 with 1 Axes>"
            ]
          },
          "metadata": {
            "tags": []
          }
        },
        {
          "output_type": "display_data",
          "data": {
            "text/html": [
              "<img src=\"https://fivethirtyeight.com/wp-content/uploads/2015/04/barry-jester-datalab-boomersdruguse-actual.png?w=575\" width=\"600\"/>"
            ],
            "text/plain": [
              "<IPython.core.display.Image object>"
            ]
          },
          "metadata": {
            "tags": []
          }
        }
      ]
    },
    {
      "cell_type": "markdown",
      "metadata": {
        "id": "0wSrBzmJyWaV",
        "colab_type": "text"
      },
      "source": [
        "# STRETCH OPTIONS\n",
        "\n",
        "### 1) Reproduce one of the following using the matplotlib or seaborn libraries:\n",
        "\n",
        "- [thanksgiving-2015](https://fivethirtyeight.com/features/heres-what-your-part-of-america-eats-on-thanksgiving/) \n",
        "- [candy-power-ranking](https://fivethirtyeight.com/features/the-ultimate-halloween-candy-power-ranking/) \n",
        "- or another example of your choice!\n",
        "\n",
        "### 2) Make more charts!\n",
        "\n",
        "Choose a chart you want to make, from [Visual Vocabulary - Vega Edition](http://ft.com/vocabulary).\n",
        "\n",
        "Find the chart in an example gallery of a Python data visualization library:\n",
        "- [Seaborn](http://seaborn.pydata.org/examples/index.html)\n",
        "- [Altair](https://altair-viz.github.io/gallery/index.html)\n",
        "- [Matplotlib](https://matplotlib.org/gallery.html)\n",
        "- [Pandas](https://pandas.pydata.org/pandas-docs/stable/visualization.html)\n",
        "\n",
        "Reproduce the chart. [Optionally, try the \"Ben Franklin Method.\"](https://docs.google.com/document/d/1ubOw9B3Hfip27hF2ZFnW3a3z9xAgrUDRReOEo-FHCVs/edit) If you want, experiment and make changes.\n",
        "\n",
        "Take notes. Consider sharing your work with your cohort!"
      ]
    },
    {
      "cell_type": "code",
      "metadata": {
        "id": "dRJkKftiy5BJ",
        "colab_type": "code",
        "colab": {}
      },
      "source": [
        "# More Work Here"
      ],
      "execution_count": 0,
      "outputs": []
    }
  ]
}
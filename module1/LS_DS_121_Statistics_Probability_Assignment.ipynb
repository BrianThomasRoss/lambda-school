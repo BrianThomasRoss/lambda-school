{
  "nbformat": 4,
  "nbformat_minor": 0,
  "metadata": {
    "kernelspec": {
      "display_name": "Python 3",
      "language": "python",
      "name": "python3"
    },
    "language_info": {
      "codemirror_mode": {
        "name": "ipython",
        "version": 3
      },
      "file_extension": ".py",
      "mimetype": "text/x-python",
      "name": "python",
      "nbconvert_exporter": "python",
      "pygments_lexer": "ipython3",
      "version": "3.7.3"
    },
    "colab": {
      "name": "LS_DS_121_Statistics_Probability_Assignment.ipynb",
      "provenance": []
    }
  },
  "cells": [
    {
      "cell_type": "markdown",
      "metadata": {
        "id": "Sa5KWMO1ngPN",
        "colab_type": "text"
      },
      "source": [
        "<img align=\"left\" src=\"https://lever-client-logos.s3.amazonaws.com/864372b1-534c-480e-acd5-9711f850815c-1524247202159.png\" width=200>\n",
        "<br></br>\n",
        "<br></br>\n",
        "\n",
        "## *Data Science Unit 1 Sprint 2 Assignment 1*\n",
        "\n",
        "# Apply the t-test to real data\n",
        "\n",
        "Your assignment is to determine which issues have \"statistically significant\" differences between political parties in this [1980s congressional voting data](https://archive.ics.uci.edu/ml/datasets/Congressional+Voting+Records). The data consists of 435 instances (one for each congressperson), a class (democrat or republican), and 16 binary attributes (yes or no for voting for or against certain issues). Be aware - there are missing values!\n",
        "\n",
        "Your goals:\n",
        "\n",
        "1. Load and clean the data (or determine the best method to drop observations when running tests)\n",
        "2. Using hypothesis testing, find an issue that democrats support more than republicans with p < 0.01\n",
        "3. Using hypothesis testing, find an issue that republicans support more than democrats with p < 0.01\n",
        "4. Using hypothesis testing, find an issue where the difference between republicans and democrats has p > 0.1 (i.e. there may not be much of a difference)\n",
        "\n",
        "Note that this data will involve *2 sample* t-tests, because you're comparing averages across two groups (republicans and democrats) rather than a single group against a null hypothesis.\n",
        "\n",
        "Stretch goals:\n",
        "\n",
        "1. Refactor your code into functions so it's easy to rerun with arbitrary variables\n",
        "2. Apply hypothesis testing to your personal project data (for the purposes of this notebook you can type a summary of the hypothesis you formed and tested)"
      ]
    },
    {
      "cell_type": "code",
      "metadata": {
        "id": "ZKwspo2CngPP",
        "colab_type": "code",
        "colab": {}
      },
      "source": [
        "import pandas as pd\n",
        "import numpy as np\n",
        "from scipy.stats import ttest_ind, ttest_ind_from_stats, ttest_rel, ttest_1samp\n"
      ],
      "execution_count": 0,
      "outputs": []
    },
    {
      "cell_type": "code",
      "metadata": {
        "id": "utz900Vjz5O3",
        "colab_type": "code",
        "colab": {
          "base_uri": "https://localhost:8080/",
          "height": 204
        },
        "outputId": "2e8b66b2-b1d2-4b43-be19-98b338587453"
      },
      "source": [
        "!wget https://archive.ics.uci.edu/ml/machine-learning-databases/voting-records/house-votes-84.data"
      ],
      "execution_count": 2,
      "outputs": [
        {
          "output_type": "stream",
          "text": [
            "--2019-10-07 20:02:28--  https://archive.ics.uci.edu/ml/machine-learning-databases/voting-records/house-votes-84.data\n",
            "Resolving archive.ics.uci.edu (archive.ics.uci.edu)... 128.195.10.252\n",
            "Connecting to archive.ics.uci.edu (archive.ics.uci.edu)|128.195.10.252|:443... connected.\n",
            "HTTP request sent, awaiting response... 200 OK\n",
            "Length: 18171 (18K) [application/x-httpd-php]\n",
            "Saving to: ‘house-votes-84.data’\n",
            "\n",
            "\rhouse-votes-84.data   0%[                    ]       0  --.-KB/s               \rhouse-votes-84.data 100%[===================>]  17.75K  --.-KB/s    in 0.06s   \n",
            "\n",
            "2019-10-07 20:02:28 (286 KB/s) - ‘house-votes-84.data’ saved [18171/18171]\n",
            "\n"
          ],
          "name": "stdout"
        }
      ]
    },
    {
      "cell_type": "code",
      "metadata": {
        "id": "ZUbSNry30Ojx",
        "colab_type": "code",
        "colab": {
          "base_uri": "https://localhost:8080/",
          "height": 34
        },
        "outputId": "31a6b29c-3a82-4646-9512-3dd7f2f28908"
      },
      "source": [
        "# Load Data\n",
        "df = pd.read_csv('house-votes-84.data', \n",
        "                 header=None,\n",
        "                 names=['party','handicapped-infants','water-project',\n",
        "                          'budget','physician-fee-freeze', 'el-salvador-aid',\n",
        "                          'religious-groups','anti-satellite-ban',\n",
        "                          'aid-to-contras','mx-missile','immigration',\n",
        "                          'synfuels', 'education', 'right-to-sue','crime','duty-free',\n",
        "                          'south-africa'])\n",
        "print(df.shape)"
      ],
      "execution_count": 3,
      "outputs": [
        {
          "output_type": "stream",
          "text": [
            "(435, 17)\n"
          ],
          "name": "stdout"
        }
      ]
    },
    {
      "cell_type": "code",
      "metadata": {
        "id": "vKrvOFCr0Ugm",
        "colab_type": "code",
        "colab": {
          "base_uri": "https://localhost:8080/",
          "height": 258
        },
        "outputId": "ac75625f-54b1-47e3-a647-62cb930f73f4"
      },
      "source": [
        "df = df.replace({'?': np.NaN, 'y':1, 'n':0})\n",
        "\n",
        "df.head()"
      ],
      "execution_count": 4,
      "outputs": [
        {
          "output_type": "execute_result",
          "data": {
            "text/html": [
              "<div>\n",
              "<style scoped>\n",
              "    .dataframe tbody tr th:only-of-type {\n",
              "        vertical-align: middle;\n",
              "    }\n",
              "\n",
              "    .dataframe tbody tr th {\n",
              "        vertical-align: top;\n",
              "    }\n",
              "\n",
              "    .dataframe thead th {\n",
              "        text-align: right;\n",
              "    }\n",
              "</style>\n",
              "<table border=\"1\" class=\"dataframe\">\n",
              "  <thead>\n",
              "    <tr style=\"text-align: right;\">\n",
              "      <th></th>\n",
              "      <th>party</th>\n",
              "      <th>handicapped-infants</th>\n",
              "      <th>water-project</th>\n",
              "      <th>budget</th>\n",
              "      <th>physician-fee-freeze</th>\n",
              "      <th>el-salvador-aid</th>\n",
              "      <th>religious-groups</th>\n",
              "      <th>anti-satellite-ban</th>\n",
              "      <th>aid-to-contras</th>\n",
              "      <th>mx-missile</th>\n",
              "      <th>immigration</th>\n",
              "      <th>synfuels</th>\n",
              "      <th>education</th>\n",
              "      <th>right-to-sue</th>\n",
              "      <th>crime</th>\n",
              "      <th>duty-free</th>\n",
              "      <th>south-africa</th>\n",
              "    </tr>\n",
              "  </thead>\n",
              "  <tbody>\n",
              "    <tr>\n",
              "      <th>0</th>\n",
              "      <td>republican</td>\n",
              "      <td>0.0</td>\n",
              "      <td>1.0</td>\n",
              "      <td>0.0</td>\n",
              "      <td>1.0</td>\n",
              "      <td>1.0</td>\n",
              "      <td>1.0</td>\n",
              "      <td>0.0</td>\n",
              "      <td>0.0</td>\n",
              "      <td>0.0</td>\n",
              "      <td>1.0</td>\n",
              "      <td>NaN</td>\n",
              "      <td>1.0</td>\n",
              "      <td>1.0</td>\n",
              "      <td>1.0</td>\n",
              "      <td>0.0</td>\n",
              "      <td>1.0</td>\n",
              "    </tr>\n",
              "    <tr>\n",
              "      <th>1</th>\n",
              "      <td>republican</td>\n",
              "      <td>0.0</td>\n",
              "      <td>1.0</td>\n",
              "      <td>0.0</td>\n",
              "      <td>1.0</td>\n",
              "      <td>1.0</td>\n",
              "      <td>1.0</td>\n",
              "      <td>0.0</td>\n",
              "      <td>0.0</td>\n",
              "      <td>0.0</td>\n",
              "      <td>0.0</td>\n",
              "      <td>0.0</td>\n",
              "      <td>1.0</td>\n",
              "      <td>1.0</td>\n",
              "      <td>1.0</td>\n",
              "      <td>0.0</td>\n",
              "      <td>NaN</td>\n",
              "    </tr>\n",
              "    <tr>\n",
              "      <th>2</th>\n",
              "      <td>democrat</td>\n",
              "      <td>NaN</td>\n",
              "      <td>1.0</td>\n",
              "      <td>1.0</td>\n",
              "      <td>NaN</td>\n",
              "      <td>1.0</td>\n",
              "      <td>1.0</td>\n",
              "      <td>0.0</td>\n",
              "      <td>0.0</td>\n",
              "      <td>0.0</td>\n",
              "      <td>0.0</td>\n",
              "      <td>1.0</td>\n",
              "      <td>0.0</td>\n",
              "      <td>1.0</td>\n",
              "      <td>1.0</td>\n",
              "      <td>0.0</td>\n",
              "      <td>0.0</td>\n",
              "    </tr>\n",
              "    <tr>\n",
              "      <th>3</th>\n",
              "      <td>democrat</td>\n",
              "      <td>0.0</td>\n",
              "      <td>1.0</td>\n",
              "      <td>1.0</td>\n",
              "      <td>0.0</td>\n",
              "      <td>NaN</td>\n",
              "      <td>1.0</td>\n",
              "      <td>0.0</td>\n",
              "      <td>0.0</td>\n",
              "      <td>0.0</td>\n",
              "      <td>0.0</td>\n",
              "      <td>1.0</td>\n",
              "      <td>0.0</td>\n",
              "      <td>1.0</td>\n",
              "      <td>0.0</td>\n",
              "      <td>0.0</td>\n",
              "      <td>1.0</td>\n",
              "    </tr>\n",
              "    <tr>\n",
              "      <th>4</th>\n",
              "      <td>democrat</td>\n",
              "      <td>1.0</td>\n",
              "      <td>1.0</td>\n",
              "      <td>1.0</td>\n",
              "      <td>0.0</td>\n",
              "      <td>1.0</td>\n",
              "      <td>1.0</td>\n",
              "      <td>0.0</td>\n",
              "      <td>0.0</td>\n",
              "      <td>0.0</td>\n",
              "      <td>0.0</td>\n",
              "      <td>1.0</td>\n",
              "      <td>NaN</td>\n",
              "      <td>1.0</td>\n",
              "      <td>1.0</td>\n",
              "      <td>1.0</td>\n",
              "      <td>1.0</td>\n",
              "    </tr>\n",
              "  </tbody>\n",
              "</table>\n",
              "</div>"
            ],
            "text/plain": [
              "        party  handicapped-infants  ...  duty-free  south-africa\n",
              "0  republican                  0.0  ...        0.0           1.0\n",
              "1  republican                  0.0  ...        0.0           NaN\n",
              "2    democrat                  NaN  ...        0.0           0.0\n",
              "3    democrat                  0.0  ...        0.0           1.0\n",
              "4    democrat                  1.0  ...        1.0           1.0\n",
              "\n",
              "[5 rows x 17 columns]"
            ]
          },
          "metadata": {
            "tags": []
          },
          "execution_count": 4
        }
      ]
    },
    {
      "cell_type": "code",
      "metadata": {
        "id": "w1MHtWht0iCj",
        "colab_type": "code",
        "colab": {}
      },
      "source": [
        "# Filtering\n",
        "\n",
        "republicans = df[df.party == \"republican\"]\n",
        "democrats = df[df.party == \"democrat\"]"
      ],
      "execution_count": 0,
      "outputs": []
    },
    {
      "cell_type": "code",
      "metadata": {
        "id": "M76wvsnU9FNO",
        "colab_type": "code",
        "colab": {}
      },
      "source": [
        "republicans.mean()"
      ],
      "execution_count": 0,
      "outputs": []
    },
    {
      "cell_type": "code",
      "metadata": {
        "id": "BphXzqFT9JJ7",
        "colab_type": "code",
        "colab": {}
      },
      "source": [
        "democrats.mean()"
      ],
      "execution_count": 0,
      "outputs": []
    },
    {
      "cell_type": "code",
      "metadata": {
        "id": "zkJUIcSxD2MK",
        "colab_type": "code",
        "colab": {}
      },
      "source": [
        "\n",
        "issues_list = df.columns.to_list()\n",
        "issues_list.remove('party')"
      ],
      "execution_count": 0,
      "outputs": []
    },
    {
      "cell_type": "code",
      "metadata": {
        "id": "bCHdQogANERi",
        "colab_type": "code",
        "colab": {
          "base_uri": "https://localhost:8080/",
          "height": 289
        },
        "outputId": "f539cf65-e48c-48e6-e635-1fcb29a5a3ae"
      },
      "source": [
        "issues_list"
      ],
      "execution_count": 105,
      "outputs": [
        {
          "output_type": "execute_result",
          "data": {
            "text/plain": [
              "['handicapped-infants',\n",
              " 'water-project',\n",
              " 'budget',\n",
              " 'physician-fee-freeze',\n",
              " 'el-salvador-aid',\n",
              " 'religious-groups',\n",
              " 'anti-satellite-ban',\n",
              " 'aid-to-contras',\n",
              " 'mx-missile',\n",
              " 'immigration',\n",
              " 'synfuels',\n",
              " 'education',\n",
              " 'right-to-sue',\n",
              " 'crime',\n",
              " 'duty-free',\n",
              " 'south-africa']"
            ]
          },
          "metadata": {
            "tags": []
          },
          "execution_count": 105
        }
      ]
    },
    {
      "cell_type": "code",
      "metadata": {
        "id": "NdDFt43H0uRZ",
        "colab_type": "code",
        "colab": {}
      },
      "source": [
        "# Define a function to compare the means between parties\n",
        "\n",
        "def compare_means(issues):\n",
        "  BOLD = '\\033[1m'\n",
        "  END = '\\033[0m'\n",
        "  for issue in issues: \n",
        "    dem_mean = str(np.mean(democrats[issue]))\n",
        "    rep_mean = str(np.mean(republicans[issue]))\n",
        "\n",
        "    print(\"Issue: \" + str(issue).title().replace(\"-\", \" \") + \"\\n\" + BOLD + \" Dem mean is \" + END + dem_mean + \"\\n\" +  BOLD + \" Rep mean is \" + END + rep_mean)\n",
        "    print(\"\\n\")\n",
        "    "
      ],
      "execution_count": 0,
      "outputs": []
    },
    {
      "cell_type": "code",
      "metadata": {
        "id": "YpAPZy-N5RPz",
        "colab_type": "code",
        "colab": {
          "base_uri": "https://localhost:8080/",
          "height": 1000
        },
        "outputId": "846157fb-9894-4b03-f084-b864f2d911f2"
      },
      "source": [
        "compare_means(issues_list)"
      ],
      "execution_count": 159,
      "outputs": [
        {
          "output_type": "stream",
          "text": [
            "Issue: Handicapped Infants\n",
            "\u001b[1m Dem mean is \u001b[0m0.6046511627906976\n",
            "\u001b[1m Rep mean is \u001b[0m0.18787878787878787\n",
            "\n",
            "\n",
            "Issue: Water Project\n",
            "\u001b[1m Dem mean is \u001b[0m0.502092050209205\n",
            "\u001b[1m Rep mean is \u001b[0m0.5067567567567568\n",
            "\n",
            "\n",
            "Issue: Budget\n",
            "\u001b[1m Dem mean is \u001b[0m0.8884615384615384\n",
            "\u001b[1m Rep mean is \u001b[0m0.13414634146341464\n",
            "\n",
            "\n",
            "Issue: Physician Fee Freeze\n",
            "\u001b[1m Dem mean is \u001b[0m0.05405405405405406\n",
            "\u001b[1m Rep mean is \u001b[0m0.9878787878787879\n",
            "\n",
            "\n",
            "Issue: El Salvador Aid\n",
            "\u001b[1m Dem mean is \u001b[0m0.21568627450980393\n",
            "\u001b[1m Rep mean is \u001b[0m0.9515151515151515\n",
            "\n",
            "\n",
            "Issue: Religious Groups\n",
            "\u001b[1m Dem mean is \u001b[0m0.47674418604651164\n",
            "\u001b[1m Rep mean is \u001b[0m0.8975903614457831\n",
            "\n",
            "\n",
            "Issue: Anti Satellite Ban\n",
            "\u001b[1m Dem mean is \u001b[0m0.7722007722007722\n",
            "\u001b[1m Rep mean is \u001b[0m0.24074074074074073\n",
            "\n",
            "\n",
            "Issue: Aid To Contras\n",
            "\u001b[1m Dem mean is \u001b[0m0.8288973384030418\n",
            "\u001b[1m Rep mean is \u001b[0m0.15286624203821655\n",
            "\n",
            "\n",
            "Issue: Mx Missile\n",
            "\u001b[1m Dem mean is \u001b[0m0.7580645161290323\n",
            "\u001b[1m Rep mean is \u001b[0m0.11515151515151516\n",
            "\n",
            "\n",
            "Issue: Immigration\n",
            "\u001b[1m Dem mean is \u001b[0m0.4714828897338403\n",
            "\u001b[1m Rep mean is \u001b[0m0.5575757575757576\n",
            "\n",
            "\n",
            "Issue: Synfuels\n",
            "\u001b[1m Dem mean is \u001b[0m0.5058823529411764\n",
            "\u001b[1m Rep mean is \u001b[0m0.1320754716981132\n",
            "\n",
            "\n",
            "Issue: Education\n",
            "\u001b[1m Dem mean is \u001b[0m0.14457831325301204\n",
            "\u001b[1m Rep mean is \u001b[0m0.8709677419354839\n",
            "\n",
            "\n",
            "Issue: Right To Sue\n",
            "\u001b[1m Dem mean is \u001b[0m0.2896825396825397\n",
            "\u001b[1m Rep mean is \u001b[0m0.8607594936708861\n",
            "\n",
            "\n",
            "Issue: Crime\n",
            "\u001b[1m Dem mean is \u001b[0m0.35019455252918286\n",
            "\u001b[1m Rep mean is \u001b[0m0.9813664596273292\n",
            "\n",
            "\n",
            "Issue: Duty Free\n",
            "\u001b[1m Dem mean is \u001b[0m0.6374501992031872\n",
            "\u001b[1m Rep mean is \u001b[0m0.08974358974358974\n",
            "\n",
            "\n",
            "Issue: South Africa\n",
            "\u001b[1m Dem mean is \u001b[0m0.9351351351351351\n",
            "\u001b[1m Rep mean is \u001b[0m0.6575342465753424\n",
            "\n",
            "\n"
          ],
          "name": "stdout"
        }
      ]
    },
    {
      "cell_type": "code",
      "metadata": {
        "id": "BbNtg8d3BsZp",
        "colab_type": "code",
        "colab": {
          "base_uri": "https://localhost:8080/",
          "height": 34
        },
        "outputId": "b93f6e2a-74d6-42db-e39a-5462fb5007fe"
      },
      "source": [
        "# Find an issue that republicans support more than democrats\n",
        "\n",
        "ttest_ind(republicans['physician-fee-freeze'], democrats['physician-fee-freeze'], nan_policy='omit')"
      ],
      "execution_count": 147,
      "outputs": [
        {
          "output_type": "execute_result",
          "data": {
            "text/plain": [
              "Ttest_indResult(statistic=49.36708157301406, pvalue=1.994262314074344e-177)"
            ]
          },
          "metadata": {
            "tags": []
          },
          "execution_count": 147
        }
      ]
    },
    {
      "cell_type": "code",
      "metadata": {
        "id": "aOjo7VVjEIxF",
        "colab_type": "code",
        "colab": {
          "base_uri": "https://localhost:8080/",
          "height": 34
        },
        "outputId": "bd5b5419-7124-4706-9883-c0f0450da14d"
      },
      "source": [
        "# Find an issue that democrats support more than republicans\n",
        "\n",
        "ttest_ind(republicans['aid-to-contras'], democrats['aid-to-contras'], nan_policy='omit')"
      ],
      "execution_count": 149,
      "outputs": [
        {
          "output_type": "execute_result",
          "data": {
            "text/plain": [
              "Ttest_indResult(statistic=-18.052093200819733, pvalue=2.82471841372357e-54)"
            ]
          },
          "metadata": {
            "tags": []
          },
          "execution_count": 149
        }
      ]
    },
    {
      "cell_type": "code",
      "metadata": {
        "id": "X6IOoZVEVL-g",
        "colab_type": "code",
        "colab": {
          "base_uri": "https://localhost:8080/",
          "height": 34
        },
        "outputId": "1ca608bb-9f66-4df8-b909-1cba8ff90446"
      },
      "source": [
        "## Using hypothesis testing, find an issue where the difference between republicans\n",
        "## and democrats has p > 0.1 (i.e. there may not be much of a difference)\n",
        "\n",
        "ttest_ind(republicans['water-project'], democrats['water-project'], nan_policy='omit')"
      ],
      "execution_count": 160,
      "outputs": [
        {
          "output_type": "execute_result",
          "data": {
            "text/plain": [
              "Ttest_indResult(statistic=0.08896538137868286, pvalue=0.9291556823993485)"
            ]
          },
          "metadata": {
            "tags": []
          },
          "execution_count": 160
        }
      ]
    },
    {
      "cell_type": "code",
      "metadata": {
        "id": "lwCTDu2Eaimm",
        "colab_type": "code",
        "colab": {}
      },
      "source": [
        ""
      ],
      "execution_count": 0,
      "outputs": []
    }
  ]
}
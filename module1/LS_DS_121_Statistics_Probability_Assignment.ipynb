{
  "nbformat": 4,
  "nbformat_minor": 0,
  "metadata": {
    "kernelspec": {
      "display_name": "Python 3",
      "language": "python",
      "name": "python3"
    },
    "language_info": {
      "codemirror_mode": {
        "name": "ipython",
        "version": 3
      },
      "file_extension": ".py",
      "mimetype": "text/x-python",
      "name": "python",
      "nbconvert_exporter": "python",
      "pygments_lexer": "ipython3",
      "version": "3.7.3"
    },
    "colab": {
      "name": "LS_DS_121_Statistics_Probability_Assignment.ipynb",
      "provenance": [],
      "include_colab_link": true
    }
  },
  "cells": [
    {
      "cell_type": "markdown",
      "metadata": {
        "id": "view-in-github",
        "colab_type": "text"
      },
      "source": [
        "<a href=\"https://colab.research.google.com/github/BrianThomasRoss/DS-Unit-1-Sprint-2-Statistics/blob/master/module1/LS_DS_121_Statistics_Probability_Assignment.ipynb\" target=\"_parent\"><img src=\"https://colab.research.google.com/assets/colab-badge.svg\" alt=\"Open In Colab\"/></a>"
      ]
    },
    {
      "cell_type": "markdown",
      "metadata": {
        "id": "Sa5KWMO1ngPN",
        "colab_type": "text"
      },
      "source": [
        "<img align=\"left\" src=\"https://lever-client-logos.s3.amazonaws.com/864372b1-534c-480e-acd5-9711f850815c-1524247202159.png\" width=200>\n",
        "<br></br>\n",
        "<br></br>\n",
        "\n",
        "## *Data Science Unit 1 Sprint 2 Assignment 1*\n",
        "\n",
        "# Apply the t-test to real data\n",
        "\n",
        "Your assignment is to determine which issues have \"statistically significant\" differences between political parties in this [1980s congressional voting data](https://archive.ics.uci.edu/ml/datasets/Congressional+Voting+Records). The data consists of 435 instances (one for each congressperson), a class (democrat or republican), and 16 binary attributes (yes or no for voting for or against certain issues). Be aware - there are missing values!\n",
        "\n",
        "Your goals:\n",
        "\n",
        "1. Load and clean the data (or determine the best method to drop observations when running tests)\n",
        "2. Using hypothesis testing, find an issue that democrats support more than republicans with p < 0.01\n",
        "3. Using hypothesis testing, find an issue that republicans support more than democrats with p < 0.01\n",
        "4. Using hypothesis testing, find an issue where the difference between republicans and democrats has p > 0.1 (i.e. there may not be much of a difference)\n",
        "\n",
        "Note that this data will involve *2 sample* t-tests, because you're comparing averages across two groups (republicans and democrats) rather than a single group against a null hypothesis.\n",
        "\n",
        "Stretch goals:\n",
        "\n",
        "1. Refactor your code into functions so it's easy to rerun with arbitrary variables\n",
        "2. Apply hypothesis testing to your personal project data (for the purposes of this notebook you can type a summary of the hypothesis you formed and tested)"
      ]
    },
    {
      "cell_type": "code",
      "metadata": {
        "id": "ZKwspo2CngPP",
        "colab_type": "code",
        "colab": {}
      },
      "source": [
        "import pandas as pd\n",
        "import numpy as np\n",
        "from scipy.stats import ttest_ind, ttest_ind_from_stats, ttest_rel, ttest_1samp\n"
      ],
      "execution_count": 0,
      "outputs": []
    },
    {
      "cell_type": "code",
      "metadata": {
        "id": "utz900Vjz5O3",
        "colab_type": "code",
        "colab": {
          "base_uri": "https://localhost:8080/",
          "height": 204
        },
        "outputId": "2e8b66b2-b1d2-4b43-be19-98b338587453"
      },
      "source": [
        "!wget https://archive.ics.uci.edu/ml/machine-learning-databases/voting-records/house-votes-84.data"
      ],
      "execution_count": 2,
      "outputs": [
        {
          "output_type": "stream",
          "text": [
            "--2019-10-07 20:02:28--  https://archive.ics.uci.edu/ml/machine-learning-databases/voting-records/house-votes-84.data\n",
            "Resolving archive.ics.uci.edu (archive.ics.uci.edu)... 128.195.10.252\n",
            "Connecting to archive.ics.uci.edu (archive.ics.uci.edu)|128.195.10.252|:443... connected.\n",
            "HTTP request sent, awaiting response... 200 OK\n",
            "Length: 18171 (18K) [application/x-httpd-php]\n",
            "Saving to: ‘house-votes-84.data’\n",
            "\n",
            "\rhouse-votes-84.data   0%[                    ]       0  --.-KB/s               \rhouse-votes-84.data 100%[===================>]  17.75K  --.-KB/s    in 0.06s   \n",
            "\n",
            "2019-10-07 20:02:28 (286 KB/s) - ‘house-votes-84.data’ saved [18171/18171]\n",
            "\n"
          ],
          "name": "stdout"
        }
      ]
    },
    {
      "cell_type": "code",
      "metadata": {
        "id": "ZUbSNry30Ojx",
        "colab_type": "code",
        "colab": {}
      },
      "source": [
        "# Load Data\n",
        "df = pd.read_csv('house-votes-84.data', \n",
        "                 header=None,\n",
        "                 names=['party','handicapped-infants','water-project',\n",
        "                          'budget','physician-fee-freeze', 'el-salvador-aid',\n",
        "                          'religious-groups','anti-satellite-ban',\n",
        "                          'aid-to-contras','mx-missile','immigration',\n",
        "                          'synfuels', 'education', 'right-to-sue','crime','duty-free',\n",
        "                          'south-africa'])"
      ],
      "execution_count": 0,
      "outputs": []
    },
    {
      "cell_type": "code",
      "metadata": {
        "id": "vKrvOFCr0Ugm",
        "colab_type": "code",
        "colab": {}
      },
      "source": [
        "df = df.replace({'?': np.NaN, 'y':1, 'n':0})\n",
        "\n"
      ],
      "execution_count": 0,
      "outputs": []
    },
    {
      "cell_type": "code",
      "metadata": {
        "id": "w1MHtWht0iCj",
        "colab_type": "code",
        "colab": {}
      },
      "source": [
        "# Filtering\n",
        "\n",
        "republicans = df[df.party == \"republican\"]\n",
        "democrats = df[df.party == \"democrat\"]"
      ],
      "execution_count": 0,
      "outputs": []
    },
    {
      "cell_type": "code",
      "metadata": {
        "id": "zkJUIcSxD2MK",
        "colab_type": "code",
        "colab": {}
      },
      "source": [
        "\n",
        "issues_list = df.columns.to_list()\n",
        "issues_list.remove('party')"
      ],
      "execution_count": 0,
      "outputs": []
    },
    {
      "cell_type": "code",
      "metadata": {
        "id": "NdDFt43H0uRZ",
        "colab_type": "code",
        "colab": {}
      },
      "source": [
        "# Define a function to compare the means between parties\n",
        "\n",
        "def compare_means(issues):\n",
        "  BOLD = '\\033[1m'\n",
        "  END = '\\033[0m'\n",
        "  UNDERLINE = '\\033[4m'\n",
        "\n",
        "  d = BOLD + \"Dem mean is: \" + END\n",
        "  r = BOLD + \"Rep mean is: \" + END\n",
        " \n",
        "  for issue in issues: \n",
        "    dem_mean = str(np.mean(democrats[issue]))\n",
        "    rep_mean = str(np.mean(republicans[issue]))\n",
        "\n",
        "    issue_str = UNDERLINE + str(issue).title().replace(\"-\", \" \") + END\n",
        "\n",
        "    print(\"\\tIssue: \" + issue_str + \n",
        "          \"\\n\" + d + dem_mean +\n",
        "          \"\\n\" + r + rep_mean)\n",
        "    print(\"\\n\" + \"-\"*40)\n",
        "    "
      ],
      "execution_count": 0,
      "outputs": []
    },
    {
      "cell_type": "code",
      "metadata": {
        "id": "YpAPZy-N5RPz",
        "colab_type": "code",
        "colab": {
          "base_uri": "https://localhost:8080/",
          "height": 1000
        },
        "outputId": "e82f962a-f4a9-4b8e-a01c-c29ac5ab8bf0"
      },
      "source": [
        "compare_means(issues_list)"
      ],
      "execution_count": 215,
      "outputs": [
        {
          "output_type": "stream",
          "text": [
            "\tIssue: \u001b[4mHandicapped Infants\u001b[0m\n",
            "\u001b[1mDem mean is: \u001b[0m0.6046511627906976\n",
            "\u001b[1mRep mean is: \u001b[0m0.18787878787878787\n",
            "\n",
            "----------------------------------------\n",
            "\tIssue: \u001b[4mWater Project\u001b[0m\n",
            "\u001b[1mDem mean is: \u001b[0m0.502092050209205\n",
            "\u001b[1mRep mean is: \u001b[0m0.5067567567567568\n",
            "\n",
            "----------------------------------------\n",
            "\tIssue: \u001b[4mBudget\u001b[0m\n",
            "\u001b[1mDem mean is: \u001b[0m0.8884615384615384\n",
            "\u001b[1mRep mean is: \u001b[0m0.13414634146341464\n",
            "\n",
            "----------------------------------------\n",
            "\tIssue: \u001b[4mPhysician Fee Freeze\u001b[0m\n",
            "\u001b[1mDem mean is: \u001b[0m0.05405405405405406\n",
            "\u001b[1mRep mean is: \u001b[0m0.9878787878787879\n",
            "\n",
            "----------------------------------------\n",
            "\tIssue: \u001b[4mEl Salvador Aid\u001b[0m\n",
            "\u001b[1mDem mean is: \u001b[0m0.21568627450980393\n",
            "\u001b[1mRep mean is: \u001b[0m0.9515151515151515\n",
            "\n",
            "----------------------------------------\n",
            "\tIssue: \u001b[4mReligious Groups\u001b[0m\n",
            "\u001b[1mDem mean is: \u001b[0m0.47674418604651164\n",
            "\u001b[1mRep mean is: \u001b[0m0.8975903614457831\n",
            "\n",
            "----------------------------------------\n",
            "\tIssue: \u001b[4mAnti Satellite Ban\u001b[0m\n",
            "\u001b[1mDem mean is: \u001b[0m0.7722007722007722\n",
            "\u001b[1mRep mean is: \u001b[0m0.24074074074074073\n",
            "\n",
            "----------------------------------------\n",
            "\tIssue: \u001b[4mAid To Contras\u001b[0m\n",
            "\u001b[1mDem mean is: \u001b[0m0.8288973384030418\n",
            "\u001b[1mRep mean is: \u001b[0m0.15286624203821655\n",
            "\n",
            "----------------------------------------\n",
            "\tIssue: \u001b[4mMx Missile\u001b[0m\n",
            "\u001b[1mDem mean is: \u001b[0m0.7580645161290323\n",
            "\u001b[1mRep mean is: \u001b[0m0.11515151515151516\n",
            "\n",
            "----------------------------------------\n",
            "\tIssue: \u001b[4mImmigration\u001b[0m\n",
            "\u001b[1mDem mean is: \u001b[0m0.4714828897338403\n",
            "\u001b[1mRep mean is: \u001b[0m0.5575757575757576\n",
            "\n",
            "----------------------------------------\n",
            "\tIssue: \u001b[4mSynfuels\u001b[0m\n",
            "\u001b[1mDem mean is: \u001b[0m0.5058823529411764\n",
            "\u001b[1mRep mean is: \u001b[0m0.1320754716981132\n",
            "\n",
            "----------------------------------------\n",
            "\tIssue: \u001b[4mEducation\u001b[0m\n",
            "\u001b[1mDem mean is: \u001b[0m0.14457831325301204\n",
            "\u001b[1mRep mean is: \u001b[0m0.8709677419354839\n",
            "\n",
            "----------------------------------------\n",
            "\tIssue: \u001b[4mRight To Sue\u001b[0m\n",
            "\u001b[1mDem mean is: \u001b[0m0.2896825396825397\n",
            "\u001b[1mRep mean is: \u001b[0m0.8607594936708861\n",
            "\n",
            "----------------------------------------\n",
            "\tIssue: \u001b[4mCrime\u001b[0m\n",
            "\u001b[1mDem mean is: \u001b[0m0.35019455252918286\n",
            "\u001b[1mRep mean is: \u001b[0m0.9813664596273292\n",
            "\n",
            "----------------------------------------\n",
            "\tIssue: \u001b[4mDuty Free\u001b[0m\n",
            "\u001b[1mDem mean is: \u001b[0m0.6374501992031872\n",
            "\u001b[1mRep mean is: \u001b[0m0.08974358974358974\n",
            "\n",
            "----------------------------------------\n",
            "\tIssue: \u001b[4mSouth Africa\u001b[0m\n",
            "\u001b[1mDem mean is: \u001b[0m0.9351351351351351\n",
            "\u001b[1mRep mean is: \u001b[0m0.6575342465753424\n",
            "\n",
            "----------------------------------------\n"
          ],
          "name": "stdout"
        }
      ]
    },
    {
      "cell_type": "code",
      "metadata": {
        "id": "BbNtg8d3BsZp",
        "colab_type": "code",
        "colab": {
          "base_uri": "https://localhost:8080/",
          "height": 34
        },
        "outputId": "b93f6e2a-74d6-42db-e39a-5462fb5007fe"
      },
      "source": [
        "# Find an issue that republicans support more than democrats\n",
        "\n",
        "ttest_ind(republicans['physician-fee-freeze'], \n",
        "          democrats['physician-fee-freeze'], nan_policy='omit')"
      ],
      "execution_count": 147,
      "outputs": [
        {
          "output_type": "execute_result",
          "data": {
            "text/plain": [
              "Ttest_indResult(statistic=49.36708157301406, pvalue=1.994262314074344e-177)"
            ]
          },
          "metadata": {
            "tags": []
          },
          "execution_count": 147
        }
      ]
    },
    {
      "cell_type": "code",
      "metadata": {
        "id": "aOjo7VVjEIxF",
        "colab_type": "code",
        "colab": {
          "base_uri": "https://localhost:8080/",
          "height": 34
        },
        "outputId": "bd5b5419-7124-4706-9883-c0f0450da14d"
      },
      "source": [
        "# Find an issue that democrats support more than republicans\n",
        "\n",
        "ttest_ind(republicans['aid-to-contras'], \n",
        "          democrats['aid-to-contras'], nan_policy='omit')"
      ],
      "execution_count": 149,
      "outputs": [
        {
          "output_type": "execute_result",
          "data": {
            "text/plain": [
              "Ttest_indResult(statistic=-18.052093200819733, pvalue=2.82471841372357e-54)"
            ]
          },
          "metadata": {
            "tags": []
          },
          "execution_count": 149
        }
      ]
    },
    {
      "cell_type": "code",
      "metadata": {
        "id": "X6IOoZVEVL-g",
        "colab_type": "code",
        "colab": {
          "base_uri": "https://localhost:8080/",
          "height": 34
        },
        "outputId": "1ca608bb-9f66-4df8-b909-1cba8ff90446"
      },
      "source": [
        "## Using hypothesis testing, find an issue where the difference between republicans\n",
        "## and democrats has p > 0.1 (i.e. there may not be much of a difference)\n",
        "\n",
        "ttest_ind(republicans['water-project'],\n",
        "          democrats['water-project'], nan_policy='omit')"
      ],
      "execution_count": 160,
      "outputs": [
        {
          "output_type": "execute_result",
          "data": {
            "text/plain": [
              "Ttest_indResult(statistic=0.08896538137868286, pvalue=0.9291556823993485)"
            ]
          },
          "metadata": {
            "tags": []
          },
          "execution_count": 160
        }
      ]
    },
    {
      "cell_type": "code",
      "metadata": {
        "id": "lwCTDu2Eaimm",
        "colab_type": "code",
        "colab": {}
      },
      "source": [
        "def two_sample_ttest(issues):\n",
        "  BOLD = '\\033[1m'\n",
        "  END = '\\033[0m'\n",
        "\n",
        "  for issue in issues:\n",
        "    ttest_result = str(ttest_ind(republicans[issue],\n",
        "                                 democrats[issue],\n",
        "                                 nan_policy='omit'))\n",
        "    \n",
        "    print(BOLD + \"Issue: \" + \n",
        "          str(issue).title().replace(\"-\", \" \") + END + \"\\n\" +\n",
        "          ttest_result + \"\\n\" + \"----\"*20)\n",
        "    "
      ],
      "execution_count": 0,
      "outputs": []
    },
    {
      "cell_type": "code",
      "metadata": {
        "id": "65d2MEwEco8i",
        "colab_type": "code",
        "colab": {
          "base_uri": "https://localhost:8080/",
          "height": 833
        },
        "outputId": "a223545a-b689-42f3-a393-367d1c69c908"
      },
      "source": [
        "two_sample_ttest(issues_list)"
      ],
      "execution_count": 205,
      "outputs": [
        {
          "output_type": "stream",
          "text": [
            "\u001b[1mIssue: Handicapped Infants\u001b[0m\n",
            "Ttest_indResult(statistic=-9.205264294809222, pvalue=1.613440327937243e-18)\n",
            "--------------------------------------------------------------------------------\n",
            "\u001b[1mIssue: Water Project\u001b[0m\n",
            "Ttest_indResult(statistic=0.08896538137868286, pvalue=0.9291556823993485)\n",
            "--------------------------------------------------------------------------------\n",
            "\u001b[1mIssue: Budget\u001b[0m\n",
            "Ttest_indResult(statistic=-23.21277691701378, pvalue=2.0703402795404463e-77)\n",
            "--------------------------------------------------------------------------------\n",
            "\u001b[1mIssue: Physician Fee Freeze\u001b[0m\n",
            "Ttest_indResult(statistic=49.36708157301406, pvalue=1.994262314074344e-177)\n",
            "--------------------------------------------------------------------------------\n",
            "\u001b[1mIssue: El Salvador Aid\u001b[0m\n",
            "Ttest_indResult(statistic=21.13669261173219, pvalue=5.600520111729011e-68)\n",
            "--------------------------------------------------------------------------------\n",
            "\u001b[1mIssue: Religious Groups\u001b[0m\n",
            "Ttest_indResult(statistic=9.737575825219457, pvalue=2.3936722520597287e-20)\n",
            "--------------------------------------------------------------------------------\n",
            "\u001b[1mIssue: Anti Satellite Ban\u001b[0m\n",
            "Ttest_indResult(statistic=-12.526187929077842, pvalue=8.521033017443867e-31)\n",
            "--------------------------------------------------------------------------------\n",
            "\u001b[1mIssue: Aid To Contras\u001b[0m\n",
            "Ttest_indResult(statistic=-18.052093200819733, pvalue=2.82471841372357e-54)\n",
            "--------------------------------------------------------------------------------\n",
            "\u001b[1mIssue: Mx Missile\u001b[0m\n",
            "Ttest_indResult(statistic=-16.437503268542994, pvalue=5.03079265310811e-47)\n",
            "--------------------------------------------------------------------------------\n",
            "\u001b[1mIssue: Immigration\u001b[0m\n",
            "Ttest_indResult(statistic=1.7359117329695164, pvalue=0.08330248490425066)\n",
            "--------------------------------------------------------------------------------\n",
            "\u001b[1mIssue: Synfuels\u001b[0m\n",
            "Ttest_indResult(statistic=-8.293603989407588, pvalue=1.5759322301054064e-15)\n",
            "--------------------------------------------------------------------------------\n",
            "\u001b[1mIssue: Education\u001b[0m\n",
            "Ttest_indResult(statistic=20.500685724563073, pvalue=1.8834203990450192e-64)\n",
            "--------------------------------------------------------------------------------\n",
            "\u001b[1mIssue: Right To Sue\u001b[0m\n",
            "Ttest_indResult(statistic=13.51064251060933, pvalue=1.2278581709672758e-34)\n",
            "--------------------------------------------------------------------------------\n",
            "\u001b[1mIssue: Crime\u001b[0m\n",
            "Ttest_indResult(statistic=16.342085656197696, pvalue=9.952342705606092e-47)\n",
            "--------------------------------------------------------------------------------\n",
            "\u001b[1mIssue: Duty Free\u001b[0m\n",
            "Ttest_indResult(statistic=-12.853146132542978, pvalue=5.997697174347365e-32)\n",
            "--------------------------------------------------------------------------------\n",
            "\u001b[1mIssue: South Africa\u001b[0m\n",
            "Ttest_indResult(statistic=-6.849454815841208, pvalue=3.652674361672226e-11)\n",
            "--------------------------------------------------------------------------------\n"
          ],
          "name": "stdout"
        }
      ]
    },
    {
      "cell_type": "code",
      "metadata": {
        "id": "rt0RLIj4czZs",
        "colab_type": "code",
        "colab": {}
      },
      "source": [
        ""
      ],
      "execution_count": 0,
      "outputs": []
    }
  ]
}